{
 "cells": [
  {
   "cell_type": "markdown",
   "metadata": {},
   "source": [
    "# Smart Home Energy Management \n",
    "First attempt at getting a working model. "
   ]
  },
  {
   "cell_type": "code",
   "execution_count": 1,
   "metadata": {},
   "outputs": [
    {
     "name": "stderr",
     "output_type": "stream",
     "text": [
      "┌ Info: Precompiling POMDPs [a93abf59-7444-517b-a68a-c42f96afdd7d]\n",
      "└ @ Base loading.jl:1242\n",
      "┌ Warning: Importing POMDPToolbox. As of Julia 0.7 POMDPToolbox has been discontinued. Please use POMDPModelTools, POMDPPolicies, BeliefUpdaters, and/or POMDPSimulators instead.\n",
      "└ @ POMDPToolbox /Users/coreyshono/.julia/packages/POMDPToolbox/OdZy7/src/POMDPToolbox.jl:4\n",
      "┌ Info: Precompiling POMDPModelTools [08074719-1b2a-587c-a292-00f91cc44415]\n",
      "└ @ Base loading.jl:1242\n",
      "┌ Info: Recompiling stale cache file /Users/coreyshono/.julia/compiled/v1.2/POMDPSimulators/i1HOp.ji for POMDPSimulators [e0d0a172-29c6-5d4e-96d0-f262df5d01fd]\n",
      "└ @ Base loading.jl:1240\n"
     ]
    }
   ],
   "source": [
    "using POMDPs\n",
    "using POMDPToolbox\n",
    "using POMDPModelTools\n",
    "using Random, Distributions\n",
    "using POMDPSimulators\n",
    "using POMDPPolicies\n",
    "\n",
    "\n",
    "#rng = MersenneTwister(1234) # TODO: Make each instance of 'rng' a different seed \n",
    "#rng = AbstractRNG; "
   ]
  },
  {
   "cell_type": "markdown",
   "metadata": {},
   "source": [
    "## Global Model Parameters \n",
    "\n",
    "First, try to get an extremely basic version of the model running. See SIMPLE MODEL DATA PARAMS for details \n",
    "\n",
    "### Real Model Data\n",
    "Need to write function to read in arrays of all the load/solar, occupancy, etc. from CSV files "
   ]
  },
  {
   "cell_type": "code",
   "execution_count": 2,
   "metadata": {},
   "outputs": [
    {
     "data": {
      "text/plain": [
       "100"
      ]
     },
     "execution_count": 2,
     "metadata": {},
     "output_type": "execute_result"
    }
   ],
   "source": [
    "# Load Real Data Model Params \n",
    "\n",
    "# Import Data from CSV \n",
    "function import_data(fileapth)\n",
    "    # TODO: Write import function \n",
    "    # return D, OCC, TOD, t, ODT, TOU\n",
    "end\n",
    "\n",
    "\n",
    "# Battery Params \n",
    "SOC_MAX = 13500; # Wh \n",
    "C_MAX = 5000; # Wh/hr \n",
    "C_RES = 100 # Wh (granularity of space) \n",
    "\n",
    "# Thermal Params \n",
    "TCMFT_LO = 67 # Lower thermal comfort band temp \n",
    "TCMFT_HI = 71 # Upper thermal comfort band temp \n",
    "\n",
    "# Building Params \n",
    "D_MAX = 5000; # Wh/hr \n",
    "D_RES = 100 # Wh (granularity of space) \n"
   ]
  },
  {
   "cell_type": "markdown",
   "metadata": {},
   "source": [
    "### SIMPLE Model Data"
   ]
  },
  {
   "cell_type": "code",
   "execution_count": 3,
   "metadata": {},
   "outputs": [],
   "source": [
    "# Simple Model Params \n",
    "\n",
    "D_ = [3,5,3,9,8,7,5,4,3,2]; # demand (non-hvac) \n",
    "OCC = [1,0,0,1,1,1,0,0,0,1]; # occupancy \n",
    "TOD = [1,2,3,4,5,1,2,3,4,5]; # time of day \n",
    "t = collect(1:10); # time index \n",
    "ODT = [3,2,3,6,5,4,3,2,4,3]; # outdoor temp \n",
    "TOU = [2,2,3,4,2,2,2,3,4,2]; # time of use rate \n"
   ]
  },
  {
   "cell_type": "markdown",
   "metadata": {},
   "source": [
    "## States\n",
    "Data container representing the state of the smarthome "
   ]
  },
  {
   "cell_type": "code",
   "execution_count": 4,
   "metadata": {},
   "outputs": [],
   "source": [
    "struct SmartHomeState\n",
    "    d_hv::Int64 # demand of hvac (Wh, rounded to nearest 100Wh) \n",
    "    d_::Int64 # demand of all other loads (Wh, rounded to nearest 100Wh)\n",
    "    soc::Int64 # state of charge of battery (Wh, rounded to nearest 100 Wh) \n",
    "    rmt::Int64 # room temperature (degF, to nearest degree) \n",
    "    occ::Bool # occupancy status \n",
    "    hsp::Int64 # heating setpoint (degF, to nearest degree) \n",
    "    csp::Int64 # cooling setpoint (degF, to nearest degree) \n",
    "    tod::Int64 # time of day (hr, 0-23) \n",
    "    odt::Int64 # outdoor temp (degF, to nearest degree) \n",
    "    tou::Int64 # time of use rate ($0.01, to nearest cent) \n",
    "    t::Int64 # current time index \n",
    "end"
   ]
  },
  {
   "cell_type": "markdown",
   "metadata": {},
   "source": [
    "### TODO: Initalize State\n",
    " \n",
    "\n",
    "\n",
    "Convenience functions for working with the SmartHome state "
   ]
  },
  {
   "cell_type": "code",
   "execution_count": 5,
   "metadata": {},
   "outputs": [],
   "source": [
    "# initial state constructor \n",
    "#SmartHomeState(d_hv::Int64, d_::Int64, rmt::Int64, occ::Bool, hsp::Int64, csp::Int64, tod::Int64, odt::Int64, tou::Int64) = SmartHomeState(d_hv, d_, 0.5*SOC_MAX, rmt, occ, hsp, csp, tod, odt, tou)\n",
    "\n",
    "# checks if the setpoints of two states are the same \n",
    "#spequal(s1::SmartHomeState, s2::SmartHomeState) = s1.hsp == s2.hsp && s1.csp == s2.csp "
   ]
  },
  {
   "cell_type": "markdown",
   "metadata": {},
   "source": [
    "## Actions\n",
    "Actions are defined by both the charge rate of tha battery and the change in thermostat setpoint "
   ]
  },
  {
   "cell_type": "code",
   "execution_count": 6,
   "metadata": {},
   "outputs": [],
   "source": [
    "struct SmartHomeAction\n",
    "    c::Int64 # Charge rate of battery (Wh, to nearest 100 Wh) \n",
    "    dhsp::Int64 # Change in heat setpoint (degF, to nearest degree) \n",
    "    dcsp::Int64 # Change in cool setpoint (degF, to nearest degree) \n",
    "end"
   ]
  },
  {
   "cell_type": "markdown",
   "metadata": {},
   "source": [
    "## MDP \n",
    "SmartHome data container is defined. It holds all the information needed to define the MDP tuple (S, A, T, R). \n"
   ]
  },
  {
   "cell_type": "code",
   "execution_count": 7,
   "metadata": {},
   "outputs": [],
   "source": [
    "# the smarthome mdp type \n",
    "struct SmartHomeMDP <: MDP{SmartHomeState, SmartHomeAction} \n",
    "    # Note that our MDP is parametrized by the state and the action\n",
    "    # Given Data \n",
    "    D_::Array{Int64}\n",
    "    OCC::Array{Bool}\n",
    "    TOD::Array{Int64}\n",
    "    t::Array{Int64}\n",
    "    ODT::Array{Int64}\n",
    "    TOU::Array{Int64} \n",
    "    \n",
    "    # Battery Params\n",
    "    soc_max::Int64 \n",
    "    c_max::Int64\n",
    "    penalty_soc::Float64\n",
    "    \n",
    "    # Comfort Params \n",
    "    tcomf_lo::Int64\n",
    "    tcomf_hi::Int64\n",
    "    prob_sp_adj::Float64\n",
    "    penalty_discomf::Float64 \n",
    "    \n",
    "    # Building Params \n",
    "    d_max::Int64 \n",
    "    penalty_sp::Float64 \n",
    "    \n",
    "    # Init Params \n",
    "    #init_d_hv = 5; \n",
    "    #init_soc = 5; \n",
    "    #init_rmt = 5; \n",
    "    #init_occ = true; \n",
    "    #init_hsp = 4; \n",
    "    #init_csp = 6; \n",
    "    #init_tod = 1; \n",
    "    #init_t = 1; \n",
    "    \n",
    "end\n",
    "\n",
    "SmartHomeMDP() = SmartHomeMDP(D_, OCC, TOD, t, ODT, TOU, 10, 5, -1000, 4, 6, 0.3, -1, 10, -1000); "
   ]
  },
  {
   "cell_type": "markdown",
   "metadata": {},
   "source": [
    "### TODO: Define Action Space \n",
    "Define the action space c=collect(-5:5), dhsp=collect(-5:5), dcsp=collect(-5:5)"
   ]
  },
  {
   "cell_type": "code",
   "execution_count": 8,
   "metadata": {},
   "outputs": [],
   "source": [
    "#actions(::SmartHomeMDP) = SmartHomeAction(\n",
    "#    collect(-5:5), # Charge rate of battery \n",
    "#    collect(-5:5), # Change in heat setpoint\n",
    "#    collect(-5:5)  # Change in cool setpoint\n",
    "#)"
   ]
  },
  {
   "cell_type": "markdown",
   "metadata": {},
   "source": [
    "## Define gen \n",
    "Implement the complete generative models for both the SmartHomeMDP and SmartHomePOMDP. \n",
    "\n",
    "### State transition model \n",
    "- d_hv: f(hsp, csp, odt) \n",
    "- d_: probabilistic f(d_(t-1), tod, rand)\n",
    "- soc: f(soc(t-1), c(t-1)) \n",
    "- rmt: f(hsp, csp, odt) \n",
    "- occ: probabilistic f(tod, rand) \n",
    "- hsp: f(hsp(t-1), dhsp, rand) \n",
    "- csp: f(csp(t-1), dcsp, rand) \n",
    "- tod: f(tod(t-1))\n",
    "- odt: f(odt(t-1), tod) \n",
    "- tou: f(tod) \n",
    "\n",
    "### Observation model \n",
    "- occ_d: f(occ, p_tp, p_fp) \n",
    "    - p_tp: true pos prob, \n",
    "    - p_fp: false pos prob\n",
    "    \n",
    "### Reward model\n",
    "Reward model is composed of the following components: \n",
    "- TOU charge demand_: f(tou, d_) \n",
    "- TOU charge on demand_hvac: f(tou, d_hv) \n",
    "- TOU charge on charge_rate: f(tou, c) \n",
    "- Discomfort Penalty: f(occ, rmt) \n",
    "- SOC violation Penalty: f(soc)  \n",
    "- SP violation penalty: f(hsp, csp) \n",
    "- Demand Charge: f(D_, D_HV, C) depends on all timesteps for the entire duration \n"
   ]
  },
  {
   "cell_type": "code",
   "execution_count": 56,
   "metadata": {},
   "outputs": [],
   "source": [
    "using Distributions"
   ]
  },
  {
   "cell_type": "code",
   "execution_count": 59,
   "metadata": {},
   "outputs": [
    {
     "ename": "UndefVarError",
     "evalue": "UndefVarError: Uniform not defined",
     "output_type": "error",
     "traceback": [
      "UndefVarError: Uniform not defined",
      "",
      "Stacktrace:",
      " [1] top-level scope at In[59]:1"
     ]
    }
   ],
   "source": [
    "rand(Uniform(1,10))"
   ]
  },
  {
   "cell_type": "code",
   "execution_count": 60,
   "metadata": {},
   "outputs": [],
   "source": [
    "function update_sps(m::SmartHomeMDP, s::SmartHomeState, a::SmartHomeAction, rng) \n",
    "    if a.dhsp != 0 || a.dcsp != 0 \n",
    "        # If action=adjust, deterministically set thermostat \n",
    "        return s.hsp + a.dhsp, s.csp + a.dcsp\n",
    "    else\n",
    "        # Else, probabilistic adjustment based on thermal comfort \n",
    "        if rand(rng) < m.prob_sp_adj\n",
    "            # Adjust setpoints \n",
    "            #septoints = [round(x) for x in rand(rng, Uniform(m.tcomf_lo, m.tcomf_hi),2)] # TODO: Figure out why not working \n",
    "            center = (m.tcomf_lo + m.tcomf_hi)/2\n",
    "            setpoints = [round(x) for x in min(max(rand(rng, Normal(center,2)),m.tcomf_lo),m.tcomf_hi)]\n",
    "            return min(setpoints), max(setpoints) \n",
    "        else\n",
    "            # Maintain previous SPs\n",
    "            return s.hsp, s.csp \n",
    "        end\n",
    "    end\n",
    "end\n",
    "\n",
    "function hv_model(hsp, csp, odt, rng) \n",
    "    # Fitted regression model based hv_model data analysis. \n",
    "    # Model was fit to predict kWh/day \n",
    "    # d_hv = a*cdd + b*hdd + c + N(0,RMSE)  \n",
    "    \n",
    "    cdd = max(odt-csp,0) # cdd in an hour \n",
    "    hdd = max(hsp-odt,0) # hdd in an hour \n",
    "    \n",
    "    a = 2.1898; b = 0.9476; c = 0.5394; RMSE = 6.146; \n",
    "    error = rand(rng, Normal(0,RMSE), 1) \n",
    "    \n",
    "    d_hv = a*cdd + b*hdd + c + error\n",
    "    d_hv = round(d_hv*1000/24, digits=-2) # kWh/day -> Wh/hr(to nearest 100Wh) \n",
    "    \n",
    "    return d_hv\n",
    "end\n",
    "\n",
    "function hv_model_simple(hsp, csp, odt, rng)\n",
    "    # Extremely simplified model to work with SIMPLE DATA \n",
    "    cdd = max(odt-csp,0) # cdd in an hour \n",
    "    hdd = max(hsp-odt,0) # hdd in an hour \n",
    "    \n",
    "    a = 2.3; b = 1.7; RMSE = 0.8; \n",
    "    error = rand(rng, Normal(0,RMSE), 1)[1]\n",
    "    \n",
    "    d_hv = a*cdd + b*hdd + error \n",
    "    d_hv = max(min(round(d_hv),10), 0) \n",
    "    \n",
    "    return d_hv\n",
    "end\n",
    "\n",
    "function update_d_(d_, tod)\n",
    "    # TODO: fit model dependent on TOD\n",
    "    # TODO: adjust clamp when realistic data (maybe functionalize clamp) \n",
    "    # Maybe fit a BN to this data? \n",
    "    noise_d_ = 3\n",
    "    \n",
    "    d_ += rand(rng, Normal(0,noise_d_), 1)[1] # Probabilistic Change \n",
    "    d_ = max(min(round(d_),10), 0) # Clamp to 0-10 int\n",
    "    return d_\n",
    "end\n",
    "\n",
    "function update_occ(occ, tod)\n",
    "    # TODO: fit model dependent on TOD \n",
    "    # TODO: adjust clamp when realistic data (maybe functionalize clamp) \n",
    "    # Maybe fit a BN to this data? \n",
    "    p_change_occ = 0.3\n",
    "    \n",
    "    return rand(rng) < p_change_occ ? !occ : occ\n",
    "end\n",
    "\n",
    "function update_odt(tod)\n",
    "    # Fitted to a sine wave with noise \n",
    "    # TODO: need to adjust equation params when converting to realistic data \n",
    "    # TODO: adjust clamp when realistic data (maybe functionalize clamp) \n",
    "    # TODO: fit model dependent on TOD \n",
    "    # Maybe fit a BN to this data? \n",
    "    noise_odt = 1\n",
    "    \n",
    "    odt = 2.5*sin((tod+1.75)*pi/2.5)+5\n",
    "    odt += rand(rng, Normal(0,noise_odt), 1)[1] \n",
    "    odt = max(min(round(odt),10), 0) # Clamp to 0-10 int \n",
    "    \n",
    "    return odt\n",
    "end\n",
    "\n",
    "function update_tou(tod) \n",
    "    TOU_SCHEDULE = [2,2,3,4,2]; \n",
    "    # TODO: Change tou_schedule to take as model input rather than hard code \n",
    "    tou = TOU_SCHEDULE[tod] \n",
    "    return tou \n",
    "end\n",
    "\n",
    "\n",
    "# MDP Generative Model \n",
    "function POMDPs.gen(m::SmartHomeMDP, s::SmartHomeState, a::SmartHomeAction, rng) \n",
    "    # transition model \n",
    "    t = s.t + 1 # Deterministic, fixed \n",
    "    tod = rem(s.tod + 1, 24) # Deterministic, fixed \n",
    "    tod = rem(s.tod + 1, 5) + 1 # TODO: THIS IS FOR SIMPLE MODEL \n",
    "    \n",
    "    #d_ = m.D_[s.t+1] # Deterministic, fixed (should/could it be probabilistic?)\n",
    "    #occ = OCC[s.t+1] # Deterministic, fixed (should/could it be probabilistic?) \n",
    "    #odt = ODT[s.t+1] # Deterministic, fixed \n",
    "    #tou = TOU[s.t+1] # Deterministic, fixed \n",
    "    \n",
    "    d_ = update_d_(s.d_, tod) # Probabilistic\n",
    "    occ = update_occ(s.occ, tod) # Probabilistic\n",
    "    odt = update_odt(tod) # Probabilistic\n",
    "    tou = update_tou(tod) # By Schedule\n",
    "    \n",
    "    \n",
    "    (hsp, csp) = update_sps(m, s, a, rng) \n",
    "    #d_hv = hv_model(hsp, csp, odt, rng) # Based on actual fit \n",
    "    d_hv = hv_model_simple(hsp, csp, s.odt, rng) \n",
    "    soc = s.soc + a.c\n",
    "    rmt = min(max(hsp,odt),csp)\n",
    "    \n",
    "    sp = SmartHomeState(d_hv, d_, soc, rmt, occ, hsp, csp, tod, odt, tou, t)\n",
    "    \n",
    "\n",
    "    # observation model \n",
    "    # N/A\n",
    "    \n",
    "    # reward model \n",
    "    r = tou * (s.d_ + s.d_hv + a.c)\n",
    "    r += (s.rmt > m.tcomf_hi || s.rmt < m.tcomf_lo) ? m.penalty_discomf : 0 \n",
    "    r += (s.soc > m.soc_max || s.soc < 0) ? m.penalty_soc : 0 \n",
    "    r += (s.hsp > s.csp) ? m.penalty_sp : 0 # HSP must be less than or equal to CSP \n",
    "    \n",
    "    \n",
    "    # create and return a NamedTuple \n",
    "    return (sp=sp, r=r) # For MDP \n",
    "end\n",
    "\n"
   ]
  },
  {
   "cell_type": "markdown",
   "metadata": {},
   "source": [
    "### TODO: Convert above code from MDP -> POMDP"
   ]
  },
  {
   "cell_type": "code",
   "execution_count": 10,
   "metadata": {},
   "outputs": [
    {
     "ename": "UndefVarError",
     "evalue": "UndefVarError: SmartHomePOMDP not defined",
     "output_type": "error",
     "traceback": [
      "UndefVarError: SmartHomePOMDP not defined",
      "",
      "Stacktrace:",
      " [1] top-level scope at In[10]:1"
     ]
    }
   ],
   "source": [
    "# POMDP Generative Model \n",
    "function POMDPs.gen(m::SmartHomePOMDP, s::SmartHomeState, a::SmartHomeAction, rng) \n",
    "    # transition model \n",
    "    # should be same as MDP \n",
    "    \n",
    "    # observation model \n",
    "    if sp # Opccupied \n",
    "        o = rand(rng) < m.p_occ_tp\n",
    "    else # Not Occupied \n",
    "        o = rand(rng) < m.p_occ_fp\n",
    "    end\n",
    "    \n",
    "    \n",
    "    # reward model \n",
    "    \n",
    "    \n",
    "    # create and return a NamedTuple \n",
    "    return (sp=sp, o=o, r=r) # For POMDP \n",
    "end\n",
    "\n"
   ]
  },
  {
   "cell_type": "markdown",
   "metadata": {},
   "source": [
    "## Initial State Distribution\n",
    "At first, lets assume a somewhat arbitrary assignment of deterministic states and assume the transition model will handle the rest. \n"
   ]
  },
  {
   "cell_type": "code",
   "execution_count": 11,
   "metadata": {},
   "outputs": [],
   "source": [
    "#POMDPs.initialstate_distribution(m::BabyPOMDP) = Deterministic(false)\n",
    "#POMDPs.initialstate_distribution(m::SmartHomeMDP) = SmartHomeState(\n",
    "#    Deterministic(5), # d_hv\n",
    "#    Deterministic(5), # d_\n",
    "#    Deterministic(5), # soc \n",
    "#    Deterministic(5), # rmt\n",
    "#    Deterministic(true), # occ\n",
    "#    Deterministic(4), # hsp\n",
    "#    Deterministic(6), # csp\n",
    "#    Deterministic(1), # tod\n",
    "#    Deterministic(5), # odt\n",
    "#    Deterministic(2), # tou\n",
    "#    Deterministic(1) # t \n",
    "#) \n",
    "\n",
    "#POMDPs.initialstate_distribution(m::SmartHomeMDP) = SmartHomeState(5, 5, 5, 5, true, 4, 6, 1, 5, 2, 1)  "
   ]
  },
  {
   "cell_type": "code",
   "execution_count": null,
   "metadata": {},
   "outputs": [],
   "source": []
  },
  {
   "cell_type": "code",
   "execution_count": null,
   "metadata": {},
   "outputs": [],
   "source": []
  },
  {
   "cell_type": "code",
   "execution_count": 12,
   "metadata": {},
   "outputs": [],
   "source": [
    "sh = SmartHomeMDP(); "
   ]
  },
  {
   "cell_type": "markdown",
   "metadata": {},
   "source": [
    "## Step Through Random Policy "
   ]
  },
  {
   "cell_type": "code",
   "execution_count": 32,
   "metadata": {},
   "outputs": [
    {
     "ename": "ErrorException",
     "evalue": "syntax: invalid \"::\" syntax",
     "output_type": "error",
     "traceback": [
      "syntax: invalid \"::\" syntax",
      "",
      "Stacktrace:",
      " [1] top-level scope at /Users/coreyshono/.julia/packages/IJulia/nglnM/src/kernel.jl:52"
     ]
    }
   ],
   "source": [
    "POMDPs.initialstate(m::SmartHomeMDP, rng::AbstractRNG) = POMDPs.initialstate(::Union{MDP, POMDP}, ::AbstractRNG)\n",
    "\n",
    "initialstate(m::SmartHomeMDP, rng::AbstractRNG) = SmartHomeState(5, 5, 5, 5, true, 4, 6, 1, 5, 2, 1)  \n",
    "\n",
    "\n",
    "function POMDPs.initialstate_distribution(pp::UAVchaseProblem)\n",
    "    p = mdp(pp)\n",
    "    init_uav_pose = p.init_UAVPose\n",
    "    init_uav_heading = p.init_UAVHeading\n",
    "    init_taget_pose = p.init_targetPose\n",
    "    init_target_std = p.init_target_std\n",
    "    return MDPStateDistribution(init_uav_pose, init_uav_heading, init_taget_pose, init_target_std)\n",
    "end\n",
    "\n",
    "function POMDPs.initialstate_distribution(m::SmartHomeMDP) \n",
    "    p = mdp(pp)\n",
    "    init_uav_pose = p.init_UAVPose\n",
    "    init_uav_heading = p.init_UAVHeading\n",
    "    init_taget_pose = p.init_targetPose\n",
    "    init_target_std = p.init_target_std\n",
    "    return MDPStateDistribution(init_uav_pose, init_uav_heading, init_taget_pose, init_target_std)\n",
    "end"
   ]
  },
  {
   "cell_type": "code",
   "execution_count": null,
   "metadata": {},
   "outputs": [],
   "source": [
    "n_actions(p::TruckMaintenance) = 2\n",
    "n_states(p::TruckMaintenance)  = 2\n",
    "\n",
    "ordered_states(p::TruckMaintenance)                        = states(p)\n",
    "initialstate_distribution(p::TruckMaintenance)             = SparseCat(states(p), [1.0, 0.0])\n",
    "\n",
    "states(p::TruckMaintenance)                                = [TruckState(false, 0.0),     TruckState(true, 0.0)]\n",
    "states(p::TruckMaintenance, s::TruckState)                 = [TruckState(false, s.d),     TruckState(true, s.d)]\n",
    "states(p::TruckMaintenance, s::TruckState, a::TruckAction) = [TruckState(false, s.d+a.d), TruckState(true, s.d+a.d)]\n",
    "\n",
    "actions(p::TruckMaintenance)                               = [TruckAction(false, rand(50:50:1500)), TruckAction(true, 0)]\n",
    "\n",
    "stateindex(p::TruckMaintenance, s::TruckState)   = 2 - s.fault\n",
    "actionindex(p::TruckMaintenance, a::TruckAction) = 2 - a.repair"
   ]
  },
  {
   "cell_type": "code",
   "execution_count": 26,
   "metadata": {},
   "outputs": [],
   "source": [
    "#n_actions(m::Smart) = \n",
    "POMDPs.initialstate(m::SmartHomeMDP, rng::MersenneTwister) = SmartHomeState(5, 5, 5, 5, true, 4, 6, 1, 5, 2, 1)  \n",
    "POMDPs.initialstate_distribution(m::SmartHomeMDP) = SparseCat([SmartHomeState(5, 5, 5, 5, true, 4, 6, 1, 5, 2, 1), SmartHomeState(4, 5, 5, 5, true, 4, 6, 1, 5, 2, 1)], [0.4, 0.6])\n",
    "\n",
    "POMDPs.actions(m::SmartHomeMDP) = [SmartHomeAction(-1,0,0), SmartHomeAction(0,0,0), SmartHomeAction(1,0,0), \n",
    "    SmartHomeAction(-1,1,0), SmartHomeAction(0,1,0), SmartHomeAction(1,1,0), \n",
    "    SmartHomeAction(-1,0,1), SmartHomeAction(0,0,1), SmartHomeAction(1,1,1)]  \n",
    "\n",
    "#actions(::SmartHomeMDP) = SmartHomeAction(\n",
    "#    collect(-5:5), # Charge rate of battery \n",
    "#    collect(-5:5), # Change in heat setpoint\n",
    "#    collect(-5:5)  # Change in cool setpoint\n",
    "#)\n",
    "\n"
   ]
  },
  {
   "cell_type": "code",
   "execution_count": 20,
   "metadata": {},
   "outputs": [],
   "source": [
    "rng = Random.GLOBAL_RNG; "
   ]
  },
  {
   "cell_type": "code",
   "execution_count": 61,
   "metadata": {},
   "outputs": [
    {
     "name": "stdout",
     "output_type": "stream",
     "text": [
      "s = SmartHomeState(5, 5, 5, 5, true, 4, 6, 1, 5, 2, 1)\n",
      "a = SmartHomeAction(0, 0, 1)\n",
      "r = 30\n",
      "\n",
      "s = SmartHomeState(0, 6, 5, 5, true, 4, 7, 3, 5, 3, 2)\n",
      "a = SmartHomeAction(1, 1, 1)\n",
      "r = 14\n",
      "\n",
      "s = SmartHomeState(0, 6, 6, 5, true, 5, 8, 5, 5, 2, 3)\n",
      "a = SmartHomeAction(0, 0, 1)\n",
      "r = 12\n",
      "\n",
      "s = SmartHomeState(0, 7, 6, 5, false, 5, 9, 2, 1, 2, 4)\n",
      "a = SmartHomeAction(1, 1, 0)\n",
      "r = 32\n",
      "\n",
      "s = SmartHomeState(8, 10, 7, 8, false, 6, 9, 4, 8, 4, 5)\n",
      "a = SmartHomeAction(1, 1, 0)\n",
      "r = 37.0\n",
      "\n",
      "s = SmartHomeState(1, 8, 8, 7, false, 7, 9, 1, 4, 2, 6)\n",
      "a = SmartHomeAction(1, 1, 1)\n",
      "r = 29.0\n",
      "\n",
      "s = SmartHomeState(6, 6, 9, 8, false, 8, 10, 3, 4, 3, 7)\n",
      "a = SmartHomeAction(-1, 1, 0)\n",
      "r = 21.0\n",
      "\n",
      "s = SmartHomeState(8, 7, 8, 9, false, 9, 10, 5, 7, 2, 8)\n",
      "a = SmartHomeAction(1, 1, 0)\n",
      "r = 31.0\n",
      "\n",
      "s = SmartHomeState(5, 7, 9, 10, true, 10, 10, 2, 2, 2, 9)\n",
      "a = SmartHomeAction(-1, 1, 0)\n",
      "r = 43.0\n",
      "\n",
      "s = SmartHomeState(10, 5, 8, 10, true, 11, 10, 4, 7, 4, 10)\n",
      "a = SmartHomeAction(1, 1, 0)\n",
      "r = -969.0\n",
      "\n"
     ]
    }
   ],
   "source": [
    "policy = RandomPolicy(sh)\n",
    "\n",
    "for (s, a, r) in stepthrough(sh, policy, \"s,a,r\", max_steps=10)\n",
    "    @show s\n",
    "    @show a\n",
    "    @show r\n",
    "    println()\n",
    "    #println(\"TOD: $s.tod\")\n",
    "end"
   ]
  },
  {
   "cell_type": "markdown",
   "metadata": {},
   "source": [
    "## Solve MDP "
   ]
  },
  {
   "cell_type": "code",
   "execution_count": 62,
   "metadata": {},
   "outputs": [
    {
     "name": "stderr",
     "output_type": "stream",
     "text": [
      "┌ Info: Precompiling BasicPOMCP [d721219e-3fc6-5570-a8ef-e5402f47c49e]\n",
      "└ @ Base loading.jl:1242\n"
     ]
    }
   ],
   "source": [
    "using BasicPOMCP # For the solver"
   ]
  },
  {
   "cell_type": "code",
   "execution_count": 63,
   "metadata": {},
   "outputs": [
    {
     "data": {
      "text/plain": [
       "POMCPSolver\n",
       "  max_depth: Int64 20\n",
       "  c: Float64 10.0\n",
       "  tree_queries: Int64 1000\n",
       "  max_time: Float64 Inf\n",
       "  tree_in_info: Bool false\n",
       "  default_action: ExceptionRethrow ExceptionRethrow()\n",
       "  rng: MersenneTwister\n",
       "  estimate_value: RolloutEstimator\n"
      ]
     },
     "execution_count": 63,
     "metadata": {},
     "output_type": "execute_result"
    }
   ],
   "source": [
    "# Define the POMCP solver; use keyword arguments to adjust parameters\n",
    "solver = POMCPSolver(c=10.0)"
   ]
  },
  {
   "cell_type": "code",
   "execution_count": null,
   "metadata": {},
   "outputs": [],
   "source": []
  },
  {
   "cell_type": "code",
   "execution_count": null,
   "metadata": {},
   "outputs": [],
   "source": []
  },
  {
   "cell_type": "code",
   "execution_count": null,
   "metadata": {},
   "outputs": [],
   "source": []
  },
  {
   "cell_type": "code",
   "execution_count": null,
   "metadata": {},
   "outputs": [],
   "source": []
  }
 ],
 "metadata": {
  "kernelspec": {
   "display_name": "Julia 1.2.0",
   "language": "julia",
   "name": "julia-1.2"
  },
  "language_info": {
   "file_extension": ".jl",
   "mimetype": "application/julia",
   "name": "julia",
   "version": "1.2.0"
  }
 },
 "nbformat": 4,
 "nbformat_minor": 2
}
