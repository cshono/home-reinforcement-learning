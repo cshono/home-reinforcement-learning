{
 "cells": [
  {
   "cell_type": "code",
   "execution_count": 1,
   "metadata": {},
   "outputs": [],
   "source": [
    "using POMDPs\n",
    "using Random # for AbstractRNG\n",
    "using POMDPModelTools # for Deterministic"
   ]
  },
  {
   "cell_type": "code",
   "execution_count": 2,
   "metadata": {},
   "outputs": [],
   "source": [
    "struct BabyPOMDP <: POMDP{Bool, Bool, Bool}\n",
    "    r_feed::Float64\n",
    "    r_hungry::Float64\n",
    "    p_become_hungry::Float64\n",
    "    p_cry_when_hungry::Float64\n",
    "    p_cry_when_not_hungry::Float64\n",
    "    discount::Float64   \n",
    "end\n",
    "\n",
    "BabyPOMDP() = BabyPOMDP(-5., -10., 0.1, 0.8, 0.1, 0.9);"
   ]
  },
  {
   "cell_type": "code",
   "execution_count": 3,
   "metadata": {},
   "outputs": [],
   "source": [
    "function POMDPs.gen(m::BabyPOMDP, s, a, rng)\n",
    "    # transition model\n",
    "    if a # feed\n",
    "        sp = false\n",
    "    elseif s # hungry\n",
    "        sp = true\n",
    "    else # not hungry\n",
    "        sp = rand(rng) < m.p_become_hungry\n",
    "    end\n",
    "    \n",
    "    # observation model\n",
    "    if sp # hungry\n",
    "        o = rand(rng) < m.p_cry_when_hungry\n",
    "    else # not hungry\n",
    "        o = rand(rng) < m.p_cry_when_not_hungry\n",
    "    end\n",
    "    \n",
    "    # reward model\n",
    "    r = s*m.r_hungry + a*m.r_feed\n",
    "    \n",
    "    # create and return a NamedTuple\n",
    "    return (sp=sp, o=o, r=r)\n",
    "end"
   ]
  },
  {
   "cell_type": "code",
   "execution_count": 4,
   "metadata": {},
   "outputs": [],
   "source": [
    "POMDPs.initialstate_distribution(m::BabyPOMDP) = Deterministic(false)"
   ]
  },
  {
   "cell_type": "code",
   "execution_count": 5,
   "metadata": {},
   "outputs": [
    {
     "ename": "MethodError",
     "evalue": "MethodError: no method matching initialstate_distribution(::BabyPOMDP)\nClosest candidates are:\n  initialstate_distribution(!Matched::FullyObservablePOMDP) at /Users/coreyshono/.julia/packages/POMDPModelTools/p5dFB/src/fully_observable_pomdp.jl:44\n  initialstate_distribution(!Matched::UnderlyingMDP) at /Users/coreyshono/.julia/packages/POMDPModelTools/p5dFB/src/underlying_mdp.jl:22",
     "output_type": "error",
     "traceback": [
      "MethodError: no method matching initialstate_distribution(::BabyPOMDP)\nClosest candidates are:\n  initialstate_distribution(!Matched::FullyObservablePOMDP) at /Users/coreyshono/.julia/packages/POMDPModelTools/p5dFB/src/fully_observable_pomdp.jl:44\n  initialstate_distribution(!Matched::UnderlyingMDP) at /Users/coreyshono/.julia/packages/POMDPModelTools/p5dFB/src/underlying_mdp.jl:22",
      "",
      "Stacktrace:",
      " [1] simulate(::StepSimulator, ::BabyPOMDP, ::FunctionPolicy{getfield(Main, Symbol(\"##3#4\"))}, ::BeliefUpdaters.PreviousObservationUpdater) at /Users/coreyshono/.julia/packages/POMDPSimulators/V9qfg/src/stepthrough.jl:20 (repeats 2 times)",
      " [2] #stepthrough#28(::Base.Iterators.Pairs{Symbol,Int64,Tuple{Symbol},NamedTuple{(:max_steps,),Tuple{Int64}}}, ::typeof(stepthrough), ::BabyPOMDP, ::FunctionPolicy{getfield(Main, Symbol(\"##3#4\"))}, ::String) at /Users/coreyshono/.julia/packages/POMDPSimulators/V9qfg/src/stepthrough.jl:226",
      " [3] (::getfield(POMDPSimulators, Symbol(\"#kw##stepthrough\")))(::NamedTuple{(:max_steps,),Tuple{Int64}}, ::typeof(stepthrough), ::BabyPOMDP, ::FunctionPolicy{getfield(Main, Symbol(\"##3#4\"))}, ::String) at ./none:0",
      " [4] top-level scope at ./In[5]:8"
     ]
    }
   ],
   "source": [
    "using POMDPSimulators\n",
    "using POMDPPolicies\n",
    "\n",
    "m = BabyPOMDP()\n",
    "\n",
    "# policy that maps every input to a feed (true) action\n",
    "policy = FunctionPolicy(o->true)\n",
    "\n",
    "for (s, a, r) in stepthrough(m, policy, \"s,a,r\", max_steps=10)\n",
    "    @show s\n",
    "    @show a\n",
    "    @show r\n",
    "    println()\n",
    "end"
   ]
  },
  {
   "cell_type": "code",
   "execution_count": 10,
   "metadata": {},
   "outputs": [],
   "source": [
    "using QuickPOMDPs\n",
    "using POMDPPolicies"
   ]
  },
  {
   "cell_type": "code",
   "execution_count": 8,
   "metadata": {},
   "outputs": [
    {
     "data": {
      "text/plain": [
       "update_tou (generic function with 1 method)"
      ]
     },
     "execution_count": 8,
     "metadata": {},
     "output_type": "execute_result"
    }
   ],
   "source": [
    "function update_d(tod)\n",
    "    # Fitted to a sine wave with noise \n",
    "    # TODO: need to adjust equation params when converting to realistic data \n",
    "    # TODO: adjust clamp when realistic data (maybe functionalize clamp) \n",
    "    # TODO: fit model dependent on TOD \n",
    "    # Maybe fit a BN to this data? \n",
    "    noise_odt = 1\n",
    "    \n",
    "    d = 2.5*sin((tod+1.75)*pi/2.5)+5\n",
    "    d += rand(rng, Normal(0,noise_odt), 1) \n",
    "    d = max(min(round(odt),10), 0) # Clamp to 0-10 int \n",
    "    \n",
    "    return d\n",
    "end\n",
    "\n",
    "function update_tou(tod) \n",
    "    TOU_SCHEDULE = [2,2,3,4,2]; \n",
    "    # TODO: Change tou_schedule to take as model input rather than hard code \n",
    "    tou = TOU_SCHEDULE[tod] \n",
    "    return tou \n",
    "end"
   ]
  },
  {
   "cell_type": "code",
   "execution_count": null,
   "metadata": {},
   "outputs": [],
   "source": [
    "mountaincar = QuickMDP(\n",
    "    function (s, a, rng)        \n",
    "        x, v = s\n",
    "        vp = clamp(v + a*0.001 + cos(3*x)*-0.0025, -0.07, 0.07)\n",
    "        xp = x + vp\n",
    "        if xp > 0.5\n",
    "            r = 100.0\n",
    "        else\n",
    "            r = -1.0\n",
    "        end\n",
    "        return (sp=(xp, vp), r=r)\n",
    "    end,\n",
    "    actions = [-1., 0., 1.],\n",
    "    initialstate = (-0.5, 0.0),\n",
    "    discount = 0.95,\n",
    "    isterminal = s -> s[1] > 0.5\n",
    ")\n",
    "\n",
    "smarthome = QuickMDP(\n",
    "    function (s, a, rng) \n",
    "        d, soc, tou, tod, t = s\n",
    "        dp = update_d(tod) \n",
    "        soc_p = soc + a\n",
    "        tod_p = rem(s.tod + 1, 5)\n",
    "        tou_p = update_tou(tod_p) \n",
    "        tp = t + 1 \n",
    "        \n",
    "        r = -tou_p * (d + a)\n",
    "        return (sp=(dp, soc_p, tou_p, tod_p, tp), r=r) \n",
    "        actions = [-1, 0, 1]\n",
    "        initialstate = (2, 3, 2, 1, 1) \n",
    "        states = [collect(1:10), collect(1:5), collect(1:5), collect(1:5), collect(1:20)] \n",
    "        isterminal = s -> s[5] = 11\n",
    "    end\n",
    "        \n",
    ")\n",
    "      \n",
    "\n",
    "\n",
    "\n",
    "\n"
   ]
  },
  {
   "cell_type": "code",
   "execution_count": 16,
   "metadata": {},
   "outputs": [
    {
     "data": {
      "text/plain": [
       "QuickMDP{UUID(\"55463fca-c857-4e72-bbd8-7e6ccf06feed\"),Array{Int64,1},Int64,NamedTuple{(:stateindex, :isterminal, :actionindex, :initialstate, :gen, :actions, :states, :discount),Tuple{Dict{Array{Int64,1},Int64},getfield(Main, Symbol(\"##18#20\")),Dict{Int64,Int64},NTuple{5,Int64},getfield(Main, Symbol(\"##17#19\")),Array{Int64,1},NTuple{5,Array{Int64,1}},Float64}}}((stateindex = Dict([1, 2, 3, 4, 5, 6, 7, 8, 9, 10] => 1,[1, 2, 3, 4, 5] => 4,[1, 2, 3, 4, 5, 6, 7, 8, 9, 10, 11, 12, 13, 14, 15, 16, 17, 18, 19, 20] => 5), isterminal = getfield(Main, Symbol(\"##18#20\"))(), actionindex = Dict(0 => 2,-1 => 1,1 => 3), initialstate = (2, 3, 2, 1, 1), gen = getfield(Main, Symbol(\"##17#19\"))(), actions = [-1, 0, 1], states = ([1, 2, 3, 4, 5, 6, 7, 8, 9, 10], [1, 2, 3, 4, 5], [1, 2, 3, 4, 5], [1, 2, 3, 4, 5], [1, 2, 3, 4, 5, 6, 7, 8, 9, 10, 11, 12, 13, 14, 15, 16, 17, 18, 19, 20]), discount = 1.0))"
      ]
     },
     "execution_count": 16,
     "metadata": {},
     "output_type": "execute_result"
    }
   ],
   "source": [
    "smarthome = QuickMDP(\n",
    "    function (s, a, rng) \n",
    "        d, soc, tou, tod, t = s\n",
    "        dp = update_d(tod) \n",
    "        soc_p = soc + a\n",
    "        tod_p = rem(s.tod + 1, 5)\n",
    "        tou_p = update_tou(tod_p) \n",
    "        tp = t + 1 \n",
    "        \n",
    "        r = -tou_p * (d + a)\n",
    "        return (sp=(dp, soc_p, tou_p, tod_p, tp), r=r) \n",
    "        end, \n",
    "    actions = [-1, 0, 1], \n",
    "    initialstate = (2, 3, 2, 1, 1),\n",
    "    states = (collect(1:10), collect(1:5), collect(1:5), collect(1:5), collect(1:20)), \n",
    "    isterminal = s -> s[5] = 11\n",
    ")\n"
   ]
  },
  {
   "cell_type": "code",
   "execution_count": 21,
   "metadata": {},
   "outputs": [
    {
     "ename": "MethodError",
     "evalue": "MethodError: no method matching !(::Int64)\nClosest candidates are:\n  !(!Matched::Missing) at missing.jl:79\n  !(!Matched::Bool) at bool.jl:35\n  !(!Matched::Function) at operators.jl:894",
     "output_type": "error",
     "traceback": [
      "MethodError: no method matching !(::Int64)\nClosest candidates are:\n  !(!Matched::Missing) at missing.jl:79\n  !(!Matched::Bool) at bool.jl:35\n  !(!Matched::Function) at operators.jl:894",
      "",
      "Stacktrace:",
      " [1] policy_transition_matrix(::QuickMDP{UUID(\"55463fca-c857-4e72-bbd8-7e6ccf06feed\"),Array{Int64,1},Int64,NamedTuple{(:stateindex, :isterminal, :actionindex, :initialstate, :gen, :actions, :states, :discount),Tuple{Dict{Array{Int64,1},Int64},getfield(Main, Symbol(\"##18#20\")),Dict{Int64,Int64},NTuple{5,Int64},getfield(Main, Symbol(\"##17#19\")),Array{Int64,1},NTuple{5,Array{Int64,1}},Float64}}}, ::FunctionPolicy{getfield(Main, Symbol(\"##21#22\"))}) at /Users/coreyshono/.julia/packages/POMDPModelTools/p5dFB/src/policy_evaluation.jl:50",
      " [2] #evaluate#18(::Function, ::typeof(evaluate), ::QuickMDP{UUID(\"55463fca-c857-4e72-bbd8-7e6ccf06feed\"),Array{Int64,1},Int64,NamedTuple{(:stateindex, :isterminal, :actionindex, :initialstate, :gen, :actions, :states, :discount),Tuple{Dict{Array{Int64,1},Int64},getfield(Main, Symbol(\"##18#20\")),Dict{Int64,Int64},NTuple{5,Int64},getfield(Main, Symbol(\"##17#19\")),Array{Int64,1},NTuple{5,Array{Int64,1}},Float64}}}, ::FunctionPolicy{getfield(Main, Symbol(\"##21#22\"))}) at /Users/coreyshono/.julia/packages/POMDPModelTools/p5dFB/src/policy_evaluation.jl:30",
      " [3] evaluate(::QuickMDP{UUID(\"55463fca-c857-4e72-bbd8-7e6ccf06feed\"),Array{Int64,1},Int64,NamedTuple{(:stateindex, :isterminal, :actionindex, :initialstate, :gen, :actions, :states, :discount),Tuple{Dict{Array{Int64,1},Int64},getfield(Main, Symbol(\"##18#20\")),Dict{Int64,Int64},NTuple{5,Int64},getfield(Main, Symbol(\"##17#19\")),Array{Int64,1},NTuple{5,Array{Int64,1}},Float64}}}, ::FunctionPolicy{getfield(Main, Symbol(\"##21#22\"))}) at /Users/coreyshono/.julia/packages/POMDPModelTools/p5dFB/src/policy_evaluation.jl:30",
      " [4] top-level scope at In[21]:9"
     ]
    }
   ],
   "source": [
    "#u = evaluate(m, FunctionPolicy(x->:left))\n",
    "function my_policy(x)\n",
    "    if x > 2\n",
    "        return -1\n",
    "    else\n",
    "        return 1\n",
    "    end\n",
    "end\n",
    "\n",
    "u = evaluate(smarthome, FunctionPolicy(x->1)) "
   ]
  },
  {
   "cell_type": "code",
   "execution_count": null,
   "metadata": {},
   "outputs": [],
   "source": []
  }
 ],
 "metadata": {
  "kernelspec": {
   "display_name": "Julia 1.2.0",
   "language": "julia",
   "name": "julia-1.2"
  },
  "language_info": {
   "file_extension": ".jl",
   "mimetype": "application/julia",
   "name": "julia",
   "version": "1.2.0"
  }
 },
 "nbformat": 4,
 "nbformat_minor": 2
}
