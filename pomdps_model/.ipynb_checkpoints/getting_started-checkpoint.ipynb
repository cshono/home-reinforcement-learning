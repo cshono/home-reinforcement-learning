{
 "cells": [
  {
   "cell_type": "markdown",
   "metadata": {},
   "source": [
    "# Smart Home Energy Management \n",
    "First attempt at getting a working model. "
   ]
  },
  {
   "cell_type": "code",
   "execution_count": 15,
   "metadata": {},
   "outputs": [
    {
     "data": {
      "text/plain": [
       "MersenneTwister(UInt32[0xabe3bdc9, 0x4e6e9b90, 0x10eb6744, 0xc4a108c6], Random.DSFMT.DSFMT_state(Int32[1122298554, 1072914789, -1757307225, 1073331883, -2042381198, 1072850664, 1318090828, 1072727655, -1620821020, 1073434582  …  241112125, 1072834508, 964205480, 1072993517, -1496127275, 779336900, 1057565887, -1653902827, 382, 0]), [0.0, 0.0, 0.0, 0.0, 0.0, 0.0, 0.0, 0.0, 0.0, 0.0  …  0.0, 0.0, 0.0, 0.0, 0.0, 0.0, 0.0, 0.0, 0.0, 0.0], UInt128[0x00000000000000000000000000000000, 0x00000000000000000000000000000000, 0x00000000000000000000000000000000, 0x00000000000000000000000000000000, 0x00000000000000000000000000000000, 0x00000000000000000000000000000000, 0x00000000000000000000000000000000, 0x00000000000000000000000000000000, 0x00000000000000000000000000000000, 0x00000000000000000000000000000000  …  0x00000000000000000000000000000000, 0x00000000000000000000000000000000, 0x00000000000000000000000000000000, 0x00000000000000000000000000000000, 0x00000000000000000000000000000000, 0x00000000000000000000000000000000, 0x00000000000000000000000000000000, 0x00000000000000000000000000000000, 0x00000000000000000000000000000000, 0x00000000000000000000000000000000], 1002, 0)"
      ]
     },
     "execution_count": 15,
     "metadata": {},
     "output_type": "execute_result"
    }
   ],
   "source": [
    "using POMDPs\n",
    "using POMDPToolbox\n",
    "using POMDPModelTools\n",
    "using Random, Distributions\n",
    "\n",
    "rng = MersenneTwister(1234) # TODO: Make each instance of 'rng' a different seed "
   ]
  },
  {
   "cell_type": "markdown",
   "metadata": {},
   "source": [
    "## Global Model Parameters \n",
    "\n",
    "First, try to get an extremely basic version of the model running. See SIMPLE MODEL DATA PARAMS for details \n",
    "\n",
    "### Real Model Data\n",
    "Need to write function to read in arrays of all the load/solar, occupancy, etc. from CSV files "
   ]
  },
  {
   "cell_type": "code",
   "execution_count": 2,
   "metadata": {},
   "outputs": [
    {
     "data": {
      "text/plain": [
       "100"
      ]
     },
     "execution_count": 2,
     "metadata": {},
     "output_type": "execute_result"
    }
   ],
   "source": [
    "# Load Real Data Model Params \n",
    "\n",
    "# Import Data from CSV \n",
    "function import_data(fileapth)\n",
    "    # TODO: Write import function \n",
    "    # return D, OCC, TOD, t, ODT, TOU\n",
    "end\n",
    "\n",
    "\n",
    "# Battery Params \n",
    "SOC_MAX = 13500; # Wh \n",
    "C_MAX = 5000; # Wh/hr \n",
    "C_RES = 100 # Wh (granularity of space) \n",
    "\n",
    "# Thermal Params \n",
    "TCMFT_LO = 67 # Lower thermal comfort band temp \n",
    "TCMFT_HI = 71 # Upper thermal comfort band temp \n",
    "\n",
    "# Building Params \n",
    "D_MAX = 5000; # Wh/hr \n",
    "D_RES = 100 # Wh (granularity of space) \n"
   ]
  },
  {
   "cell_type": "markdown",
   "metadata": {},
   "source": [
    "### SIMPLE Model Data"
   ]
  },
  {
   "cell_type": "code",
   "execution_count": 3,
   "metadata": {},
   "outputs": [],
   "source": [
    "# Simple Model Params \n",
    "\n",
    "D_ = [3,5,3,9,8,7,5,4,3,2]; # demand (non-hvac) \n",
    "OCC = [1,0,0,1,1,1,0,0,0,1]; # occupancy \n",
    "TOD = [1,2,3,4,5,1,2,3,4,5]; # time of day \n",
    "t = collect(1:10); # time index \n",
    "ODT = [3,2,3,6,5,4,3,2,4,3]; # outdoor temp \n",
    "TOU = [2,2,3,4,2,2,2,3,4,2]; # time of use rate \n"
   ]
  },
  {
   "cell_type": "markdown",
   "metadata": {},
   "source": [
    "## States\n",
    "Data container representing the state of the smarthome "
   ]
  },
  {
   "cell_type": "code",
   "execution_count": 4,
   "metadata": {},
   "outputs": [],
   "source": [
    "struct SmartHomeState\n",
    "    d_hv::Int64 # demand of hvac (Wh, rounded to nearest 100Wh) \n",
    "    d_::Int64 # demand of all other loads (Wh, rounded to nearest 100Wh)\n",
    "    soc::Int64 # state of charge of battery (Wh, rounded to nearest 100 Wh) \n",
    "    rmt::Int64 # room temperature (degF, to nearest degree) \n",
    "    occ::Bool # occupancy status \n",
    "    hsp::Int64 # heating setpoint (degF, to nearest degree) \n",
    "    csp::Int64 # cooling setpoint (degF, to nearest degree) \n",
    "    tod::Int64 # time of day (hr, 0-23) \n",
    "    odt::Int64 # outdoor temp (degF, to nearest degree) \n",
    "    tou::Int64 # time of use rate ($0.01, to nearest cent) \n",
    "    t::Int64 # current time index \n",
    "end"
   ]
  },
  {
   "cell_type": "markdown",
   "metadata": {},
   "source": [
    "### TODO: Initalize State\n",
    " \n",
    "\n",
    "\n",
    "Convenience functions for working with the SmartHome state "
   ]
  },
  {
   "cell_type": "code",
   "execution_count": 5,
   "metadata": {},
   "outputs": [
    {
     "data": {
      "text/plain": [
       "spequal (generic function with 1 method)"
      ]
     },
     "execution_count": 5,
     "metadata": {},
     "output_type": "execute_result"
    }
   ],
   "source": [
    "# initial state constructor \n",
    "SmartHomeState(d_hv::Int64, d_::Int64, rmt::Int64, occ::Bool, hsp::Int64, csp::Int64, tod::Int64, odt::Int64, tou::Int64) = SmartHomeState(d_hv, d_, 0.5*SOC_MAX, rmt, occ, hsp, csp, tod, odt, tou)\n",
    "\n",
    "# checks if the setpoints of two states are the same \n",
    "spequal(s1::SmartHomeState, s2::SmartHomeState) = s1.hsp == s2.hsp && s1.csp == s2.csp "
   ]
  },
  {
   "cell_type": "markdown",
   "metadata": {},
   "source": [
    "## Actions\n",
    "Actions are defined by both the charge rate of tha battery and the change in thermostat setpoint "
   ]
  },
  {
   "cell_type": "code",
   "execution_count": 6,
   "metadata": {},
   "outputs": [],
   "source": [
    "struct SmartHomeAction\n",
    "    c::Int64 # Charge rate of battery (Wh, to nearest 100 Wh) \n",
    "    dhsp::Int64 # Change in heat setpoint (degF, to nearest degree) \n",
    "    dcsp::Int64 # Change in cool setpoint (degF, to nearest degree) \n",
    "end"
   ]
  },
  {
   "cell_type": "markdown",
   "metadata": {},
   "source": [
    "## MDP \n",
    "SmartHome data container is defined. It holds all the information needed to define the MDP tuple (S, A, T, R). \n"
   ]
  },
  {
   "cell_type": "code",
   "execution_count": 7,
   "metadata": {},
   "outputs": [],
   "source": [
    "# the smarthome mdp type \n",
    "struct SmartHomeMDP <: MDP{SmartHomeState, SmartHomeAction} \n",
    "    # Note that our MDP is parametrized by the state and the action\n",
    "    # Given Data \n",
    "    D_::Array{Int64}\n",
    "    OCC::Array{Bool}\n",
    "    TOD::Array{Int64}\n",
    "    t::Array{Int64}\n",
    "    ODT::Array{Int64}\n",
    "    TOU::Array{Int64} \n",
    "    \n",
    "    # Battery Params\n",
    "    soc_max::Int64 \n",
    "    c_max::Int64\n",
    "    penalty_soc::Float64\n",
    "    \n",
    "    # Comfort Params \n",
    "    tcomf_lo::Int64\n",
    "    tcomf_hi::Int64\n",
    "    prob_sp_adj::Float64\n",
    "    penalty_discomf::Float64 \n",
    "    \n",
    "    # Building Params \n",
    "    d_max::Int64 \n",
    "    penalty_sp::Float64 \n",
    "end\n",
    "\n",
    "SmartHomeMDP() = SmartHomeMDP(D_, OCC, TOD, t, ODT, TOU, 10, 5, -1000, 4, 6, -1, 10, -1000); "
   ]
  },
  {
   "cell_type": "markdown",
   "metadata": {},
   "source": [
    "### TODO: Define Action Space \n",
    "Define the action space c=collect(1:10), dhsp=collect(-5:5), dcsp=collect(-5:5)"
   ]
  },
  {
   "cell_type": "code",
   "execution_count": 8,
   "metadata": {},
   "outputs": [
    {
     "ename": "UndefVarError",
     "evalue": "UndefVarError: SmartHome not defined",
     "output_type": "error",
     "traceback": [
      "UndefVarError: SmartHome not defined",
      "",
      "Stacktrace:",
      " [1] top-level scope at In[8]:1"
     ]
    }
   ],
   "source": [
    "actions(::SmartHome) = collect(1:10) \n",
    "\n"
   ]
  },
  {
   "cell_type": "markdown",
   "metadata": {},
   "source": [
    "## Define gen \n",
    "Implement the complete generative models for both the SmartHomeMDP and SmartHomePOMDP. \n",
    "\n",
    "### State transition model \n",
    "- d_hv: f(hsp, csp, odt) \n",
    "- d_: probabilistic f(d_(t-1), tod, rand)\n",
    "- soc: f(soc(t-1), c(t-1)) \n",
    "- rmt: f(hsp, csp, odt) \n",
    "- occ: probabilistic f(tod, rand) \n",
    "- hsp: f(hsp(t-1), dhsp, rand) \n",
    "- csp: f(csp(t-1), dcsp, rand) \n",
    "- tod: f(tod(t-1))\n",
    "- odt: f(odt(t-1), tod) \n",
    "- tou: f(tod) \n",
    "\n",
    "### Observation model \n",
    "- occ_d: f(occ, p_tp, p_fp) \n",
    "    - p_tp: true pos prob, \n",
    "    - p_fp: false pos prob\n",
    "    \n",
    "### Reward model\n",
    "Reward model is composed of the following components: \n",
    "- TOU charge demand_: f(tou, d_) \n",
    "- TOU charge on demand_hvac: f(tou, d_hv) \n",
    "- TOU charge on charge_rate: f(tou, c) \n",
    "- Discomfort Penalty: f(occ, rmt) \n",
    "- SOC violation Penalty: f(soc)  \n",
    "- SP violation penalty: f(hsp, csp) \n",
    "- Demand Charge: f(D_, D_HV, C) depends on all timesteps for the entire duration \n"
   ]
  },
  {
   "cell_type": "code",
   "execution_count": 9,
   "metadata": {},
   "outputs": [],
   "source": [
    "function update_sps(m::SmartHomeMDP, s::SmartHomeState, a::SmartHomeAction, rng) \n",
    "    if a.dhsp != 0 || a.dcsp != 0 \n",
    "        # If action=adjust, deterministically set thermostat \n",
    "        return s.hsp + a.dhsp, s.csp + a.dcsp\n",
    "    else\n",
    "        # Else, probabilistic adjustment based on thermal comfort \n",
    "        if rand(rng) < m.prob_sp_adj\n",
    "            # Adjust setpoints \n",
    "            septoints = [round(x) for x in rand(rng, Uniform(m.tcomf_lo, m.tcomf_hi),2)]\n",
    "            return min(setpoints), max(setpoints) \n",
    "        else\n",
    "            # Maintain previous SPs\n",
    "            return s.hsp, s.csp \n",
    "        end\n",
    "    end\n",
    "end\n",
    "\n",
    "function hv_model(hsp, csp, odt, rng) \n",
    "    # Fitted regression model based hv_model data analysis. \n",
    "    # Model was fit to predict kWh/day \n",
    "    # d_hv = a*cdd + b*hdd + c + N(0,RMSE)  \n",
    "    \n",
    "    cdd = max(odt-csp,0) # cdd in an hour \n",
    "    hdd = max(hsp-odt,0) # hdd in an hour \n",
    "    \n",
    "    a = 2.1898; b = 0.9476; c = 0.5394; RMSE = 6.146; \n",
    "    error = rand(rng, Normal(0,RMSE), 1) \n",
    "    \n",
    "    d_hv = a*cdd + b*hdd + c + error\n",
    "    d_hv = round(d_hv*1000/24, digits=-2) # kWh/day -> Wh/hr(to nearest 100Wh) \n",
    "    \n",
    "    return d_hv\n",
    "end\n",
    "\n",
    "function hv_model_simple(hsp, csp, odt, rng)\n",
    "    # Extremely simplified model to work with SIMPLE DATA \n",
    "    cdd = max(odt-csp,0) # cdd in an hour \n",
    "    hdd = max(hsp-odt,0) # hdd in an hour \n",
    "    \n",
    "    a = 2.3; b = 1.7; RMSE = 0.8; \n",
    "    error = rand(rng, Normal(0,RMSE), 1) \n",
    "    \n",
    "    d_hv = a*cdd + b*hdd + error \n",
    "    d_hv = max(min(round(d_hv),10), 0) \n",
    "    \n",
    "    return d_hv\n",
    "end\n",
    "\n",
    "function update_d_(d_, tod)\n",
    "    # TODO: fit model dependent on TOD\n",
    "    # TODO: adjust clamp when realistic data (maybe functionalize clamp) \n",
    "    # Maybe fit a BN to this data? \n",
    "    noise_d_ = 3\n",
    "    \n",
    "    d_ += rand(rng, Normal(0,noise_d_), 1) # Probabilistic Change \n",
    "    d_ = max(min(round(d_),10), 0) # Clamp to 0-10 int\n",
    "    return d_\n",
    "end\n",
    "\n",
    "function update_occ(occ, tod)\n",
    "    # TODO: fit model dependent on TOD \n",
    "    # TODO: adjust clamp when realistic data (maybe functionalize clamp) \n",
    "    # Maybe fit a BN to this data? \n",
    "    p_change_occ = 0.3\n",
    "    \n",
    "    return rand(rng) < p_change_occ ? !occ : occ\n",
    "end\n",
    "\n",
    "function update_odt(odt, tod)\n",
    "    # Fitted to a sine wave with noise \n",
    "    # TODO: need to adjust equation params when converting to realistic data \n",
    "    # TODO: adjust clamp when realistic data (maybe functionalize clamp) \n",
    "    # TODO: fit model dependent on TOD \n",
    "    # Maybe fit a BN to this data? \n",
    "    noise_odt = 1\n",
    "    \n",
    "    odt = 2.5*sin((tod+1.75)*pi/2.5)+5\n",
    "    odt += rand(rng, Normal(0,noise_odt), 1) \n",
    "    odt = max(min(round(odt),10), 0) # Clamp to 0-10 int \n",
    "    \n",
    "    return odt\n",
    "end\n",
    "\n",
    "function update_tou(tod) \n",
    "    TOU_SCHEDULE = [2,2,3,4,2]; \n",
    "    # TODO: Change tou_schedule to take as model input rather than hard code \n",
    "    tou = TOU_SCHEDULE[tod] \n",
    "    return tou \n",
    "end\n",
    "\n",
    "\n",
    "# MDP Generative Model \n",
    "function POMDPs.gen(m::SmartHomeMDP, s::SmartHomeState, a::SmartHomeAction, rng) \n",
    "    # transition model \n",
    "    t = s.t + 1 # Deterministic, fixed \n",
    "    tod = rem(s.tod + 1, 24) # Deterministic, fixed \n",
    "    \n",
    "    #d_ = m.D_[s.t+1] # Deterministic, fixed (should/could it be probabilistic?)\n",
    "    #occ = OCC[s.t+1] # Deterministic, fixed (should/could it be probabilistic?) \n",
    "    #odt = ODT[s.t+1] # Deterministic, fixed \n",
    "    #tou = TOU[s.t+1] # Deterministic, fixed \n",
    "    \n",
    "    d_ = update_d_(s.d_, tod) # Probabilistic\n",
    "    occ = update_occ(s.occ, tod) # Probabilistic\n",
    "    odt = update_odt(tod) # Probabilistic\n",
    "    tou = update_tou(tod) # By Schedule\n",
    "    \n",
    "    \n",
    "    (hsp, csp) = update_sps(m, s, a, rng) \n",
    "    #d_hv = hv_model(hsp, csp, odt, rng) # Based on actual fit \n",
    "    d_hv = hv_model_simple(hsp, csp, s.odt, rng) \n",
    "    soc = s.soc + a.c\n",
    "    rmt = min(max(hsp,odt),csp)\n",
    "    \n",
    "    sp = SmartHomeState(d_hv, d_, soc, rmt, occ, hsp, csp, tod, odt, tou, t)\n",
    "    \n",
    "\n",
    "    # observation model \n",
    "    # N/A\n",
    "    \n",
    "    # reward model \n",
    "    r = tou * (s.d_ + s.d_hv + a.c)\n",
    "    r += (s.rmt > m.tcomf_hi || s.rmt < m.tcomf_lo) ? m.penalty_discomf : 0 \n",
    "    r += (s.soc > m.soc_max || s.soc < 0) ? m.penalty_soc : 0 \n",
    "    r += (s.hsp > s.csp) ? m.penalty_sp : 0 # HSP must be less than or equal to CSP \n",
    "    \n",
    "    \n",
    "    # create and return a NamedTuple \n",
    "    return (sp=sp, r=r) # For MDP \n",
    "end\n",
    "\n"
   ]
  },
  {
   "cell_type": "markdown",
   "metadata": {},
   "source": [
    "### TODO: Convert above code from MDP -> POMDP"
   ]
  },
  {
   "cell_type": "code",
   "execution_count": 10,
   "metadata": {},
   "outputs": [
    {
     "ename": "UndefVarError",
     "evalue": "UndefVarError: SmartHomePOMDP not defined",
     "output_type": "error",
     "traceback": [
      "UndefVarError: SmartHomePOMDP not defined",
      "",
      "Stacktrace:",
      " [1] top-level scope at In[10]:1"
     ]
    }
   ],
   "source": [
    "# POMDP Generative Model \n",
    "function POMDPs.gen(m::SmartHomePOMDP, s::SmartHomeState, a::SmartHomeAction, rng) \n",
    "    # transition model \n",
    "    # should be same as MDP \n",
    "    \n",
    "    # observation model \n",
    "    if sp # Opccupied \n",
    "        o = rand(rng) < m.p_occ_tp\n",
    "    else # Not Occupied \n",
    "        o = rand(rng) < m.p_occ_fp\n",
    "    end\n",
    "    \n",
    "    \n",
    "    # reward model \n",
    "    \n",
    "    \n",
    "    # create and return a NamedTuple \n",
    "    return (sp=sp, o=o, r=r) # For POMDP \n",
    "end\n",
    "\n"
   ]
  },
  {
   "cell_type": "code",
   "execution_count": null,
   "metadata": {},
   "outputs": [],
   "source": []
  },
  {
   "cell_type": "code",
   "execution_count": null,
   "metadata": {},
   "outputs": [],
   "source": []
  },
  {
   "cell_type": "code",
   "execution_count": null,
   "metadata": {},
   "outputs": [],
   "source": []
  }
 ],
 "metadata": {
  "kernelspec": {
   "display_name": "Julia 1.2.0",
   "language": "julia",
   "name": "julia-1.2"
  },
  "language_info": {
   "file_extension": ".jl",
   "mimetype": "application/julia",
   "name": "julia",
   "version": "1.2.0"
  }
 },
 "nbformat": 4,
 "nbformat_minor": 2
}
