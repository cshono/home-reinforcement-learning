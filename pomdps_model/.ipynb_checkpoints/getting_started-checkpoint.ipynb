{
 "cells": [
  {
   "cell_type": "markdown",
   "metadata": {},
   "source": [
    "# Smart Home Energy Management \n",
    "First attempt at getting a working model. "
   ]
  },
  {
   "cell_type": "code",
   "execution_count": 1,
   "metadata": {},
   "outputs": [],
   "source": [
    "using POMDPs\n",
    "using POMDPModelTools\n",
    "using Random\n",
    "using Distributions\n",
    "using POMDPSimulators\n",
    "using POMDPPolicies\n",
    "using MCTS\n",
    "using SARSOP\n",
    "using Printf\n",
    "using CSV \n",
    "using Plots \n",
    "using DataFrames\n",
    "\n",
    "rng = Random.GLOBAL_RNG; \n",
    "pyplot(); \n",
    "\n",
    "HIST_RAND_FILENAME = \"rand_results.csv\"; \n",
    "HIST_MCTS_FILENAME = \"mcts_results.csv\";"
   ]
  },
  {
   "cell_type": "markdown",
   "metadata": {},
   "source": [
    "## Global Model Parameters \n",
    "\n",
    "First, try to get an extremely basic version of the model running. See SIMPLE MODEL DATA PARAMS for details \n",
    "\n",
    "### Real Model Data\n",
    "Need to write function to read in arrays of all the load/solar, occupancy, etc. from CSV files "
   ]
  },
  {
   "cell_type": "code",
   "execution_count": 2,
   "metadata": {},
   "outputs": [
    {
     "data": {
      "text/plain": [
       "100"
      ]
     },
     "execution_count": 2,
     "metadata": {},
     "output_type": "execute_result"
    }
   ],
   "source": [
    "# Load Real Data Model Params \n",
    "\n",
    "# Import Data from CSV \n",
    "function import_data(fileapth)\n",
    "    # TODO: Write import function \n",
    "    # return D, OCC, TOD, t, ODT, TOU\n",
    "end\n",
    "\n",
    "\n",
    "# Battery Params \n",
    "SOC_MAX = 13500; # Wh \n",
    "C_MAX = 5000; # Wh/hr \n",
    "C_RES = 100 # Wh (granularity of space) \n",
    "\n",
    "# Thermal Params \n",
    "TCMFT_LO = 67 # Lower thermal comfort band temp \n",
    "TCMFT_HI = 71 # Upper thermal comfort band temp \n",
    "\n",
    "# Building Params \n",
    "D_MAX = 5000; # Wh/hr \n",
    "D_RES = 100 # Wh (granularity of space) \n",
    "\n",
    "\n",
    "\n"
   ]
  },
  {
   "cell_type": "markdown",
   "metadata": {},
   "source": [
    "### Slightly more realistic data"
   ]
  },
  {
   "cell_type": "code",
   "execution_count": 25,
   "metadata": {},
   "outputs": [],
   "source": [
    "SOC_MAX = 13500 # Wh \n",
    "C_RATE_MAX = 2000; # Wh\n",
    "#PENALTY_SOC = \n",
    "\n",
    "TOD_RESOLUTION = 24; \n",
    "TOU_SCHEDULE = [\n",
    "    0.28, \n",
    "    0.28,\n",
    "    0.28,\n",
    "    0.28,\n",
    "    0.28,\n",
    "    0.28,\n",
    "    0.28,\n",
    "    0.28,\n",
    "    0.28,\n",
    "    0.28,\n",
    "    0.28,\n",
    "    0.28,\n",
    "    0.28,\n",
    "    0.28,\n",
    "    0.28,\n",
    "    0.38,\n",
    "    0.38,\n",
    "    0.38,\n",
    "    0.38,\n",
    "    0.38,\n",
    "    0.38,\n",
    "    0.38,\n",
    "    0.28,\n",
    "    0.28\n",
    "]; \n",
    "OCC_SCHEDULE = [\n",
    "    0.99, 0.99, 0.99, 0.99, 0.95, 0.95, 0.75, 0.75, 0.66, 0.33, 0.2, \n",
    "    0.4, 0.3, 0.2, 0.3, 0.35, 0.4, 0.75, 0.8, 0.75, 0.8, 0.95, 0.99, 0.99\n",
    "]; \n",
    "# See Plot \n",
    "\n",
    "SP_ADJ_SIZE = 3; \n",
    "\n",
    "# Thermal Params\n",
    "TCMFT_LO = 67; \n",
    "TCMFT_HI = 71; \n",
    "\n",
    "\n",
    "\n",
    "\n"
   ]
  },
  {
   "cell_type": "code",
   "execution_count": 24,
   "metadata": {},
   "outputs": [
    {
     "data": {
      "text/plain": [
       "24"
      ]
     },
     "execution_count": 24,
     "metadata": {},
     "output_type": "execute_result"
    }
   ],
   "source": [
    "length(OCC_SCHEDULE)"
   ]
  },
  {
   "cell_type": "markdown",
   "metadata": {},
   "source": [
    "### SIMPLE Model Data"
   ]
  },
  {
   "cell_type": "code",
   "execution_count": 4,
   "metadata": {},
   "outputs": [],
   "source": [
    "# Simple Model Params \n",
    "\n",
    "D_ = [3,5,3,9,8,7,5,4,3,2]; # demand (non-hvac) \n",
    "OCC = [1,0,0,1,1,1,0,0,0,1]; # occupancy \n",
    "TOD = [1,2,3,4,5,1,2,3,4,5]; # time of day \n",
    "t = collect(1:10); # time index \n",
    "ODT = [3,2,3,6,5,4,3,2,4,3]; # outdoor temp \n",
    "TOU = [2,2,3,4,2,2,2,3,4,2]; # time of use rate \n",
    "\n",
    "##################################\n",
    "# SIMPLE PARAMS \n",
    "\n",
    "SOC_MAX = 10; \n",
    "PENALTY_SOC = -20\n",
    "C_RATE_MAX = 3;  \n",
    "TOD_RESOLUTION = 5; \n",
    "TOU_SCHEDULE = [2,2,5,5,2]; # $/Wh \n",
    "OCC_SCHEDULE = [0.99, 0.02, 0.02, 0.95, 0.95]\n",
    "SP_ADJ_SIZE = 3; \n",
    "\n",
    "# Thermal Params \n",
    "TCMFT_LO = 4; # Lower thermal comfort band temp \n",
    "TCMFT_HI = 6; # Upper thermal comfort band temp \n",
    "PENALTY_SP = -10 \n",
    "\n",
    "\n",
    "# Building Params \n",
    "SP_MIN = 1; \n",
    "SP_MAX = 10; \n",
    "PENALTY_DISCOMF = -15\n",
    "HRLY_PROB_SP_ADJ = 0.05\n",
    "PROB_SP_ADJ = HRLY_PROB_SP_ADJ * TOD_RESOLUTION\n",
    "D_MAX = 10; \n",
    "LOAD_NOISE = 2; \n",
    "LOAD_SCHEDULE = [0.1, 0.2, 0.05, 0.4, 0.25]\n",
    "AVG_DAILY_LOAD = 10 # Wh \n",
    "\n",
    "# Weather Params \n",
    "ODT_MAX = 9; \n",
    "ODT_MIN = 1; \n",
    "ODT_NOISE = 0.5; \n",
    "\n",
    "SIM_DURATION = 20; \n",
    "\n",
    "DISCOUNT = 0.99;\n",
    "\n"
   ]
  },
  {
   "cell_type": "markdown",
   "metadata": {},
   "source": [
    "## States\n",
    "Data container representing the state of the smarthome "
   ]
  },
  {
   "cell_type": "code",
   "execution_count": 5,
   "metadata": {},
   "outputs": [],
   "source": [
    "struct SmartHomeState\n",
    "    d_hv::Int64 # demand of hvac (Wh, rounded to nearest 100Wh) \n",
    "    d_::Int64 # demand of all other loads (Wh, rounded to nearest 100Wh)\n",
    "    soc::Int64 # state of charge of battery (Wh, rounded to nearest 100 Wh) \n",
    "    rmt::Int64 # room temperature (degF, to nearest degree) \n",
    "    occ::Bool # occupancy status \n",
    "    hsp::Int64 # heating setpoint (degF, to nearest degree) \n",
    "    csp::Int64 # cooling setpoint (degF, to nearest degree) \n",
    "    tod::Int64 # time of day (hr, 0-23) \n",
    "    odt::Int64 # outdoor temp (degF, to nearest degree) \n",
    "    tou::Int64 # time of use rate ($0.01, to nearest cent) \n",
    "    t::Int64 # current time index \n",
    "end"
   ]
  },
  {
   "cell_type": "markdown",
   "metadata": {},
   "source": [
    "## Actions\n",
    "Actions are defined by both the charge rate of tha battery and the change in thermostat setpoint "
   ]
  },
  {
   "cell_type": "code",
   "execution_count": 6,
   "metadata": {},
   "outputs": [],
   "source": [
    "struct SmartHomeAction\n",
    "    c::Int64 # Charge rate of battery (Wh, to nearest 100 Wh) \n",
    "    dhsp::Int64 # Change in heat setpoint (degF, to nearest degree) \n",
    "    dcsp::Int64 # Change in cool setpoint (degF, to nearest degree) \n",
    "end"
   ]
  },
  {
   "cell_type": "markdown",
   "metadata": {},
   "source": [
    "## MDP \n",
    "SmartHome data container is defined. It holds all the information needed to define the MDP tuple (S, A, T, R). \n"
   ]
  },
  {
   "cell_type": "code",
   "execution_count": 7,
   "metadata": {},
   "outputs": [],
   "source": [
    "# the smarthome mdp type \n",
    "struct SmartHomeMDP <: MDP{SmartHomeState, SmartHomeAction} \n",
    "    # Note that our MDP is parametrized by the state and the action\n",
    "    # Given Data \n",
    "    D_::Array{Int64}\n",
    "    OCC::Array{Bool}\n",
    "    TOD::Array{Int64}\n",
    "    t::Array{Int64}\n",
    "    ODT::Array{Int64}\n",
    "    TOU::Array{Int64} \n",
    "    \n",
    "    # Battery Params\n",
    "    soc_max::Int64 \n",
    "    c_max::Int64\n",
    "    penalty_soc::Float64\n",
    "    \n",
    "    # Comfort Params \n",
    "    tcomf_lo::Int64\n",
    "    tcomf_hi::Int64\n",
    "    prob_sp_adj::Float64\n",
    "    penalty_discomf::Float64 \n",
    "    \n",
    "    # Building Params \n",
    "    d_max::Int64 \n",
    "    penalty_sp::Float64 \n",
    "end\n",
    "\n",
    "SmartHomeMDP() = SmartHomeMDP(\n",
    "    D_, OCC, TOD, t, ODT, TOU, SOC_MAX, C_RATE_MAX, \n",
    "    PENALTY_SOC, TCMFT_LO, TCMFT_HI, PROB_SP_ADJ, \n",
    "    PENALTY_DISCOMF, D_MAX, PENALTY_SP); "
   ]
  },
  {
   "cell_type": "markdown",
   "metadata": {},
   "source": [
    "## Define gen \n",
    "Implement the complete generative models for both the SmartHomeMDP and SmartHomePOMDP. \n",
    "\n",
    "### State transition model \n",
    "- d_hv: f(hsp, csp, odt) \n",
    "- d_: probabilistic f(d_(t-1), tod, rand)\n",
    "- soc: f(soc(t-1), c(t-1)) \n",
    "- rmt: f(hsp, csp, odt) \n",
    "- occ: probabilistic f(tod, rand) \n",
    "- hsp: f(hsp(t-1), dhsp, rand) \n",
    "- csp: f(csp(t-1), dcsp, rand) \n",
    "- tod: f(tod(t-1))\n",
    "- odt: f(odt(t-1), tod) \n",
    "- tou: f(tod) \n",
    "\n",
    "### Observation model \n",
    "- occ_d: f(occ, p_tp, p_fp) \n",
    "    - p_tp: true pos prob, \n",
    "    - p_fp: false pos prob\n",
    "    \n",
    "### Reward model\n",
    "Reward model is composed of the following components: \n",
    "- TOU charge demand_: f(tou, d_) \n",
    "- TOU charge on demand_hvac: f(tou, d_hv) \n",
    "- TOU charge on charge_rate: f(tou, c) \n",
    "- Discomfort Penalty: f(occ, rmt) \n",
    "- SOC violation Penalty: f(soc)  \n",
    "- SP violation penalty: f(hsp, csp) \n",
    "- Demand Charge: f(D_, D_HV, C) depends on all timesteps for the entire duration \n"
   ]
  },
  {
   "cell_type": "code",
   "execution_count": 8,
   "metadata": {},
   "outputs": [
    {
     "data": {
      "text/plain": [
       "0.5"
      ]
     },
     "execution_count": 8,
     "metadata": {},
     "output_type": "execute_result"
    }
   ],
   "source": [
    "ODT_NOISE"
   ]
  },
  {
   "cell_type": "code",
   "execution_count": null,
   "metadata": {},
   "outputs": [],
   "source": []
  },
  {
   "cell_type": "code",
   "execution_count": 9,
   "metadata": {},
   "outputs": [],
   "source": [
    "function update_sps(m::SmartHomeMDP, s::SmartHomeState, a::SmartHomeAction, rng) \n",
    "    if a.dhsp != 0 || a.dcsp != 0 \n",
    "        # If action=adjust, deterministically set thermostat \n",
    "        hsp = min(max(s.hsp+a.dhsp, SP_MIN), SP_MAX) \n",
    "        csp = min(max(s.csp+a.dcsp, SP_MIN), SP_MAX) \n",
    "        #return s.hsp + a.dhsp, s.csp + a.dcsp\n",
    "        return hsp, csp \n",
    "    else\n",
    "        # Else, probabilistic adjustment based on thermal comfort \n",
    "        if rand(rng) < m.prob_sp_adj\n",
    "            # Adjust setpoints \n",
    "            setpoints = [round(x) for x in rand(rng, Distributions.Uniform(m.tcomf_lo, m.tcomf_hi),2)] # TODO: Figure out why not working \n",
    "            center = (m.tcomf_lo + m.tcomf_hi)/2\n",
    "            #setpoints = [round(min(max(x, m.tcomf_lo), m.tcomf_hi)) for x in rand(rng, Normal(center,2),2)]\n",
    "            return minimum(setpoints), maximum(setpoints) \n",
    "        else\n",
    "            # Maintain previous SPs\n",
    "            return s.hsp, s.csp \n",
    "        end\n",
    "    end\n",
    "end\n",
    "\n",
    "function hv_model(hsp, csp, odt, rng) \n",
    "    # Fitted regression model based hv_model data analysis. \n",
    "    # Model was fit to predict kWh/day \n",
    "    # d_hv = a*cdd + b*hdd + c + N(0,RMSE)  \n",
    "    \n",
    "    cdd = max(odt-csp,0) # cdd in an hour \n",
    "    hdd = max(hsp-odt,0) # hdd in an hour \n",
    "    \n",
    "    a = 2.1898; b = 0.9476; c = 0.5394; RMSE = 6.146; \n",
    "    error = rand(rng, Normal(0,RMSE), 1) \n",
    "    \n",
    "    d_hv = a*cdd + b*hdd + c + error\n",
    "    d_hv = round(d_hv*1000/24, digits=-2) # kWh/day -> Wh/hr(to nearest 100Wh) \n",
    "    \n",
    "    return d_hv\n",
    "end\n",
    "\n",
    "function hv_model_simple(hsp, csp, odt, rng)\n",
    "    # Extremely simplified model to work with SIMPLE DATA \n",
    "    cdd = max(odt-csp,0) # cdd in an hour \n",
    "    hdd = max(hsp-odt,0) # hdd in an hour \n",
    "    \n",
    "    a = 1; b = 0.2; RMSE = 0.05; \n",
    "    error = rand(rng, Normal(0,RMSE), 1)[1]\n",
    "    \n",
    "    d_hv = a*cdd + b*hdd + error \n",
    "    d_hv = max(min(round(d_hv),10), 0) \n",
    "    \n",
    "    return d_hv\n",
    "end\n",
    "\n",
    "function update_d_(d_, tod)\n",
    "    # TODO: fit model dependent on TOD\n",
    "    # TODO: adjust clamp when realistic data (maybe functionalize clamp) \n",
    "    # Maybe fit a BN to this data? \n",
    "    noise_d_ = float(LOAD_NOISE)\n",
    "    d_ = float(LOAD_SCHEDULE[tod]* AVG_DAILY_LOAD) #OVERRIDE PREVIOUS VALUE \n",
    "    \n",
    "    d_ += rand(rng, Normal(0,noise_d_), 1)[1] # Probabilistic Change \n",
    "    d_ = max(min(round(d_),10), 0) # Clamp to 0-10 int\n",
    "    return d_\n",
    "end\n",
    "\n",
    "function update_occ(occ, tod)\n",
    "    # TODO: fit model dependent on TOD \n",
    "    # TODO: adjust clamp when realistic data (maybe functionalize clamp) \n",
    "    # Maybe fit a BN to this data? \n",
    "    p_change_occ = 0.3\n",
    "    p_occ = OCC_SCHEDULE[tod] \n",
    "    \n",
    "    #return rand(rng) < p_change_occ ? !occ : occ\n",
    "    return rand(rng) < p_occ \n",
    "end\n",
    "\n",
    "function update_odt(tod)\n",
    "    # Fitted to a sine wave with noise \n",
    "    # TODO: need to adjust equation params when converting to realistic data \n",
    "    # TODO: adjust clamp when realistic data (maybe functionalize clamp) \n",
    "    # TODO: fit model dependent on TOD \n",
    "    # Maybe fit a BN to this data? \n",
    "\n",
    "    noise_odt = float(ODT_NOISE); \n",
    "    temp_max = float(ODT_MAX);\n",
    "    temp_min = float(ODT_MIN);\n",
    "    tod_per_day = float(TOD_RESOLUTION);\n",
    "    \n",
    "    #noise_odt = 1; \n",
    "    temp_max = 7.5; \n",
    "    temp_min = 2.5;\n",
    "    tod_per_day = 5; \n",
    "    \n",
    "    amp = (temp_max - temp_min) / 2\n",
    "    mean = (temp_max + temp_min) / 2\n",
    "    \n",
    "    odt = amp*sin((tod+1.75)*pi/(tod_per_day/2)) + mean\n",
    "    odt += rand(rng, Normal(0,noise_odt), 1)[1] \n",
    "    odt = max(min(round(odt),10), 0) # Clamp to 0-10 int \n",
    "    \n",
    "    return odt\n",
    "end\n",
    "\n",
    "function update_tou(tod) \n",
    "    #TOU_SCHEDULE = [2,2,3,4,2]; \n",
    "    # TODO: Change tou_schedule to take as model input rather than hard code \n",
    "    tou = TOU_SCHEDULE[tod] \n",
    "    return tou \n",
    "end\n",
    "\n",
    "\n",
    "# MDP Generative Model \n",
    "function POMDPs.gen(m::SmartHomeMDP, s::SmartHomeState, a::SmartHomeAction, rng) \n",
    "    # transition model \n",
    "    t = s.t + 1 # Deterministic, fixed \n",
    "    #tod = rem(s.tod + 1, 24) # Deterministic, fixed \n",
    "    tod = rem(s.tod, TOD_RESOLUTION) + 1 # TODO: THIS IS FOR SIMPLE MODEL \n",
    "    \n",
    "    #d_ = m.D_[s.t+1] # Deterministic, fixed (should/could it be probabilistic?)\n",
    "    #occ = OCC[s.t+1] # Deterministic, fixed (should/could it be probabilistic?) \n",
    "    #odt = ODT[s.t+1] # Deterministic, fixed \n",
    "    #tou = TOU[s.t+1] # Deterministic, fixed \n",
    "    \n",
    "    d_ = update_d_(s.d_, tod) # Probabilistic\n",
    "    occ = update_occ(s.occ, tod) # Probabilistic\n",
    "    odt = update_odt(tod) # Probabilistic\n",
    "    tou = update_tou(tod) # By Schedule\n",
    "    \n",
    "    \n",
    "    (hsp, csp) = update_sps(m, s, a, rng) \n",
    "    #d_hv = hv_model(hsp, csp, odt, rng) # Based on actual fit \n",
    "    d_hv = hv_model_simple(hsp, csp, s.odt, rng) \n",
    "    soc = min(max(s.soc + a.c, 0), SOC_MAX) \n",
    "    rmt = min(max(hsp,odt),csp)\n",
    "    \n",
    "    sp = SmartHomeState(d_hv, d_, soc, rmt, occ, hsp, csp, tod, odt, tou, t)\n",
    "    \n",
    "\n",
    "    # observation model \n",
    "    # N/A\n",
    "    \n",
    "    # reward model \n",
    "    r = -tou * (s.d_ + s.d_hv + soc - s.soc)\n",
    "    r += (s.rmt > m.tcomf_hi || s.rmt < m.tcomf_lo) ? m.penalty_discomf : 0 \n",
    "    r += (s.soc > m.soc_max || s.soc < 0) ? m.penalty_soc : 0 \n",
    "    r += (s.hsp > s.csp) ? m.penalty_sp : 0 # HSP must be less than or equal to CSP \n",
    "    \n",
    "    \n",
    "    # create and return a NamedTuple \n",
    "    return (sp=sp, r=r) # For MDP \n",
    "end\n",
    "\n"
   ]
  },
  {
   "cell_type": "markdown",
   "metadata": {},
   "source": [
    "### TODO: Convert above code from MDP -> POMDP"
   ]
  },
  {
   "cell_type": "code",
   "execution_count": 10,
   "metadata": {},
   "outputs": [
    {
     "ename": "UndefVarError",
     "evalue": "UndefVarError: SmartHomePOMDP not defined",
     "output_type": "error",
     "traceback": [
      "UndefVarError: SmartHomePOMDP not defined",
      "",
      "Stacktrace:",
      " [1] top-level scope at In[10]:1"
     ]
    }
   ],
   "source": [
    "# POMDP Generative Model \n",
    "function POMDPs.gen(m::SmartHomePOMDP, s::SmartHomeState, a::SmartHomeAction, rng) \n",
    "    # transition model \n",
    "    # should be same as MDP \n",
    "    \n",
    "    # observation model \n",
    "    if sp # Opccupied \n",
    "        o = rand(rng) < m.p_occ_tp\n",
    "    else # Not Occupied \n",
    "        o = rand(rng) < m.p_occ_fp\n",
    "    end\n",
    "    \n",
    "    \n",
    "    # reward model \n",
    "    \n",
    "    \n",
    "    # create and return a NamedTuple \n",
    "    return (sp=sp, o=o, r=r) # For POMDP \n",
    "end\n",
    "\n"
   ]
  },
  {
   "cell_type": "code",
   "execution_count": 11,
   "metadata": {},
   "outputs": [],
   "source": [
    "sh = SmartHomeMDP(); "
   ]
  },
  {
   "cell_type": "markdown",
   "metadata": {},
   "source": [
    "## Step Through Random Policy "
   ]
  },
  {
   "cell_type": "code",
   "execution_count": 12,
   "metadata": {},
   "outputs": [],
   "source": [
    "\n",
    "POMDPs.initialstate(m::SmartHomeMDP, rng::MersenneTwister) = SmartHomeState(5, 5, 5, 5, true, 4, 6, 1, 5, 2, 1)  \n",
    "POMDPs.initialstate_distribution(m::SmartHomeMDP) = SparseCat([SmartHomeState(5, 5, 5, 5, true, 4, 6, 1, 5, 2, 1), SmartHomeState(4, 5, 5, 5, true, 4, 6, 1, 5, 2, 1)], [0.4, 0.6])\n",
    "\n",
    "# TODO: Enumerate more actions \n",
    "POMDPs.actions(m::SmartHomeMDP) = [\n",
    "    SmartHomeAction(-C_RATE_MAX ,0,0),            SmartHomeAction(0,0,0),            SmartHomeAction(C_RATE_MAX,0,0), \n",
    "    SmartHomeAction(-C_RATE_MAX ,SP_ADJ_SIZE,0),  SmartHomeAction(0,SP_ADJ_SIZE,0),  SmartHomeAction(C_RATE_MAX,SP_ADJ_SIZE,0), \n",
    "    SmartHomeAction(-C_RATE_MAX ,0,SP_ADJ_SIZE),  SmartHomeAction(0,0,SP_ADJ_SIZE),  SmartHomeAction(C_RATE_MAX,0,SP_ADJ_SIZE), \n",
    "    SmartHomeAction(-C_RATE_MAX ,-SP_ADJ_SIZE,0), SmartHomeAction(0,-SP_ADJ_SIZE,0), SmartHomeAction(C_RATE_MAX,-SP_ADJ_SIZE,0), \n",
    "    SmartHomeAction(-C_RATE_MAX ,0,-SP_ADJ_SIZE), SmartHomeAction(0,0,-SP_ADJ_SIZE), SmartHomeAction(C_RATE_MAX,1,-SP_ADJ_SIZE)]\n",
    "\n",
    "POMDPs.discount(m::SmartHomeMDP) = DISCOUNT\n",
    "\n"
   ]
  },
  {
   "cell_type": "code",
   "execution_count": 13,
   "metadata": {},
   "outputs": [
    {
     "name": "stdout",
     "output_type": "stream",
     "text": [
      "TOD: 1, SOC: 5, OCC: true, ODT: 5, HSP/CSP: 4/6\n",
      "TOD: 2, SOC: 8, OCC: false, ODT: 2, HSP/CSP: 5/3\n",
      "TOD: 3, SOC: 5, OCC: false, ODT: 3, HSP/CSP: 8/3\n",
      "TOD: 4, SOC: 5, OCC: true, ODT: 8, HSP/CSP: 8/3\n",
      "TOD: 5, SOC: 8, OCC: true, ODT: 7, HSP/CSP: 8/3\n",
      "TOD: 1, SOC: 8, OCC: true, ODT: 4, HSP/CSP: 10/3\n",
      "TOD: 2, SOC: 5, OCC: false, ODT: 3, HSP/CSP: 10/6\n",
      "TOD: 3, SOC: 8, OCC: false, ODT: 4, HSP/CSP: 10/6\n",
      "TOD: 4, SOC: 8, OCC: true, ODT: 6, HSP/CSP: 10/6\n",
      "TOD: 5, SOC: 10, OCC: true, ODT: 7, HSP/CSP: 7/6\n",
      "TOD: 1, SOC: 10, OCC: true, ODT: 5, HSP/CSP: 7/9\n",
      "TOD: 2, SOC: 7, OCC: false, ODT: 2, HSP/CSP: 7/10\n",
      "TOD: 3, SOC: 10, OCC: false, ODT: 5, HSP/CSP: 10/10\n",
      "TOD: 4, SOC: 7, OCC: true, ODT: 8, HSP/CSP: 10/7\n",
      "TOD: 5, SOC: 7, OCC: true, ODT: 8, HSP/CSP: 10/7\n",
      "TOD: 1, SOC: 4, OCC: true, ODT: 5, HSP/CSP: 10/4\n",
      "TOD: 2, SOC: 1, OCC: false, ODT: 2, HSP/CSP: 10/7\n",
      "TOD: 3, SOC: 1, OCC: false, ODT: 4, HSP/CSP: 10/7\n",
      "TOD: 4, SOC: 1, OCC: true, ODT: 6, HSP/CSP: 10/7\n"
     ]
    }
   ],
   "source": [
    "rand_policy = RandomPolicy(sh)\n",
    "iter = 1 \n",
    "for (s, a, r) in stepthrough(sh, rand_policy, \"s,a,r\", max_steps=100)\n",
    "    if iter < SIM_DURATION\n",
    "        println(string(\"TOD: \", s.tod, \", SOC: \", s.soc, \", OCC: \", s.occ, \", ODT: \", s.odt, \", HSP/CSP: \", s.hsp, \"/\", s.csp)) \n",
    "    end\n",
    "    iter += 1\n",
    "end"
   ]
  },
  {
   "cell_type": "markdown",
   "metadata": {},
   "source": [
    "## Solve MDP \n",
    "\n",
    "Implementing on MonteCarlo Tree Search "
   ]
  },
  {
   "cell_type": "code",
   "execution_count": 14,
   "metadata": {},
   "outputs": [
    {
     "data": {
      "text/plain": [
       "SmartHomeAction(3, 0, 3)"
      ]
     },
     "execution_count": 14,
     "metadata": {},
     "output_type": "execute_result"
    }
   ],
   "source": [
    "#@requirements_info MCTSSolver() SmartHomeMDP()\n",
    "n_iter = 100000\n",
    "depth = TOD_RESOLUTION #* 2\n",
    "ec = 10.0\n",
    "\n",
    "solver = MCTSSolver(n_iterations=n_iter,\n",
    "    depth=depth,\n",
    "    exploration_constant=ec,\n",
    "    enable_tree_vis=true\n",
    ")\n",
    "\n",
    "\n",
    "policy = solve(solver, sh)\n",
    "state = initialstate(sh, Random.MersenneTwister(4))\n",
    "\n",
    "a = action(policy, state)\n",
    "\n",
    "#using D3Trees\n",
    "#D3Tree(policy, state, init_expand=2)  # click on the node to expand it"
   ]
  },
  {
   "cell_type": "markdown",
   "metadata": {},
   "source": [
    "## Evaluate Model "
   ]
  },
  {
   "cell_type": "code",
   "execution_count": 15,
   "metadata": {},
   "outputs": [
    {
     "name": "stdout",
     "output_type": "stream",
     "text": [
      "Random Policy Total discounted reward: -663.8560710594983\n"
     ]
    }
   ],
   "source": [
    "hist_rand = HistoryRecorder(max_steps=SIM_DURATION)\n",
    "hist_rand = simulate(hist_rand, sh, rand_policy, state)\n",
    "\n",
    "println(\"Random Policy Total discounted reward: $(discounted_reward(hist_rand))\")"
   ]
  },
  {
   "cell_type": "code",
   "execution_count": 16,
   "metadata": {},
   "outputs": [
    {
     "name": "stdout",
     "output_type": "stream",
     "text": [
      "Monte Carlo Policy Total discounted reward: -96.91398467160127\n"
     ]
    }
   ],
   "source": [
    "hist_mcts = HistoryRecorder(max_steps=SIM_DURATION)\n",
    "hist_mcts = simulate(hist_mcts, sh, policy, state)\n",
    "\n",
    "println(\"Monte Carlo Policy Total discounted reward: $(discounted_reward(hist_mcts))\")"
   ]
  },
  {
   "cell_type": "markdown",
   "metadata": {},
   "source": [
    "## Export Simulation Results "
   ]
  },
  {
   "cell_type": "code",
   "execution_count": 17,
   "metadata": {},
   "outputs": [
    {
     "data": {
      "text/plain": [
       "export_results (generic function with 1 method)"
      ]
     },
     "execution_count": 17,
     "metadata": {},
     "output_type": "execute_result"
    }
   ],
   "source": [
    "function export_results(hist, filename)\n",
    "    # Write to file\n",
    "    open(filename, \"w\") do io\n",
    "        @printf(io, \"t,TOD,c,dhsp,dcsp,d_hv,d_,soc,rmt,occ,hsp,csp,odt,tou,r\\n\")\n",
    "        for (s, a, r, sp) in eachstep(hist, \"(s, a, r, sp)\")  \n",
    "            @printf(io, \"%s,%s,%s,%s,%s,%s,%s,%s,%s,%s,%s,%s,%s,%s,%s\\n\", s.t, s.tod, a.c, a.dhsp, a.dcsp, s.d_hv, s.d_, s.soc, s.rmt, s.occ, s.hsp, s.csp, s.odt, s.tou, r)\n",
    "        end\n",
    "    end\n",
    "end"
   ]
  },
  {
   "cell_type": "code",
   "execution_count": 18,
   "metadata": {},
   "outputs": [],
   "source": [
    "export_results(hist_rand, HIST_RAND_FILENAME) \n",
    "export_results(hist_mcts, HIST_MCTS_FILENAME) "
   ]
  },
  {
   "cell_type": "code",
   "execution_count": null,
   "metadata": {},
   "outputs": [],
   "source": []
  },
  {
   "cell_type": "code",
   "execution_count": null,
   "metadata": {},
   "outputs": [],
   "source": []
  }
 ],
 "metadata": {
  "kernelspec": {
   "display_name": "Julia 1.2.0",
   "language": "julia",
   "name": "julia-1.2"
  },
  "language_info": {
   "file_extension": ".jl",
   "mimetype": "application/julia",
   "name": "julia",
   "version": "1.2.0"
  }
 },
 "nbformat": 4,
 "nbformat_minor": 2
}
