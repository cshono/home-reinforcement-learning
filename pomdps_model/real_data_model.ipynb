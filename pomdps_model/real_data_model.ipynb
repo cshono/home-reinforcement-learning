{
 "cells": [
  {
   "cell_type": "markdown",
   "metadata": {},
   "source": [
    "# Smart Home Energy Management \n",
    "First attempt at getting a working model. "
   ]
  },
  {
   "cell_type": "code",
   "execution_count": 1,
   "metadata": {},
   "outputs": [],
   "source": [
    "using POMDPs\n",
    "using POMDPModelTools\n",
    "using Random\n",
    "using Distributions\n",
    "using POMDPSimulators\n",
    "using POMDPPolicies\n",
    "using MCTS\n",
    "using SARSOP\n",
    "using Printf\n",
    "using CSV \n",
    "using Plots \n",
    "using DataFrames\n",
    "\n",
    "rng = Random.GLOBAL_RNG; \n",
    "pyplot(); \n",
    "\n",
    "HIST_RAND_FILENAME = \"rand_results.csv\"; \n",
    "HIST_MCTS_FILENAME = \"mcts_results.csv\";"
   ]
  },
  {
   "cell_type": "markdown",
   "metadata": {},
   "source": [
    "## Global Model Parameters \n",
    "\n",
    "First, try to get an extremely basic version of the model running. See SIMPLE MODEL DATA PARAMS for details \n",
    "\n",
    "### Real Model Data\n",
    "Need to write function to read in arrays of all the load/solar, occupancy, etc. from CSV files "
   ]
  },
  {
   "cell_type": "code",
   "execution_count": 2,
   "metadata": {},
   "outputs": [
    {
     "data": {
      "text/plain": [
       "100"
      ]
     },
     "execution_count": 2,
     "metadata": {},
     "output_type": "execute_result"
    }
   ],
   "source": [
    "# Load Real Data Model Params \n",
    "\n",
    "# Import Data from CSV \n",
    "function import_data(fileapth)\n",
    "    # TODO: Write import function \n",
    "    # return D, OCC, TOD, t, ODT, TOU\n",
    "end\n",
    "\n",
    "\n",
    "# Battery Params \n",
    "SOC_MAX = 13500; # Wh \n",
    "C_MAX = 5000; # Wh/hr \n",
    "C_RES = 100 # Wh (granularity of space) \n",
    "\n",
    "# Thermal Params \n",
    "TCMFT_LO = 67 # Lower thermal comfort band temp \n",
    "TCMFT_HI = 71 # Upper thermal comfort band temp \n",
    "\n",
    "# Building Params \n",
    "D_MAX = 5000; # Wh/hr \n",
    "D_RES = 100 # Wh (granularity of space) \n",
    "\n",
    "\n",
    "\n"
   ]
  },
  {
   "cell_type": "markdown",
   "metadata": {},
   "source": [
    "### Slightly more realistic data"
   ]
  },
  {
   "cell_type": "code",
   "execution_count": 3,
   "metadata": {},
   "outputs": [],
   "source": [
    "SOC_MAX = 13500 # Wh \n",
    "C_RATE_MAX = 2000; # Wh\n",
    "PENALTY_SOC = -10 \n",
    "\n",
    "TOD_RESOLUTION = 24; \n",
    "TOU_SCHEDULE = [\n",
    "    0.28, \n",
    "    0.28,\n",
    "    0.28,\n",
    "    0.28,\n",
    "    0.28,\n",
    "    0.28,\n",
    "    0.28,\n",
    "    0.28,\n",
    "    0.28,\n",
    "    0.28,\n",
    "    0.28,\n",
    "    0.28,\n",
    "    0.28,\n",
    "    0.28,\n",
    "    0.28,\n",
    "    0.38,\n",
    "    0.38,\n",
    "    0.38,\n",
    "    0.38,\n",
    "    0.38,\n",
    "    0.38,\n",
    "    0.38,\n",
    "    0.28,\n",
    "    0.28\n",
    "]; \n",
    "OCC_SCHEDULE = [\n",
    "    0.99, 0.99, 0.99, 0.99, 0.95, 0.95, 0.75, 0.75, 0.66, 0.33, 0.2, \n",
    "    0.4, 0.3, 0.2, 0.3, 0.35, 0.4, 0.75, 0.8, 0.75, 0.8, 0.95, 0.99, 0.99\n",
    "]; \n",
    "# See Plot \n",
    "\n",
    "SP_ADJ_SIZE = 3; \n",
    "\n",
    "# Thermal Params\n",
    "TCMFT_LO = 67; \n",
    "TCMFT_HI = 71; \n",
    "PENALTY_SP = -10; \n",
    "\n",
    "# Building Params\n",
    "SP_MIN = 60; \n",
    "SP_MAX = 80; \n",
    "PENALTY_DISCOMF = -15; \n",
    "HRLY_PROB_SP_ADJ = 0.05; \n",
    "\n",
    "\n",
    "PROB_SP_ADJ = HRLY_PROB_SP_ADJ * TOD_RESOLUTION\n",
    "D_MAX = 5000; \n",
    "LOAD_NOISE = 2; \n",
    "LOAD_SCHEDULE = [0.02, 0.02, 0.02, 0.02, 0.02, 0.05, 0.1, 0.1, 0.1, 0.05, 0.07, 0.08, 0.04, 0.02, 0.03, 0.05, 0.1, 0.2, 0.15, 0.05, 0.05, 0.05, 0.03, 0.02]\n",
    "AVG_DAILY_LOAD = 30000 # Wh \n",
    "\n",
    "# Weather Params \n",
    "ODT_MAX = 80; \n",
    "ODT_MIN = 58; \n",
    "ODT_NOISE = 1; \n",
    "\n",
    "SIM_DAYS = 1\n",
    "SIM_DURATION = SIM_DAYS * TOD_RESOLUTION; \n",
    "\n",
    "DISCOUNT = 0.99;\n",
    "\n",
    "\n"
   ]
  },
  {
   "cell_type": "code",
   "execution_count": 4,
   "metadata": {},
   "outputs": [
    {
     "data": {
      "text/plain": [
       "24-element Array{Float64,1}:\n",
       " 0.02\n",
       " 0.01\n",
       " 0.01\n",
       " 0.01\n",
       " 0.01\n",
       " 0.04\n",
       " 0.07\n",
       " 0.06\n",
       " 0.05\n",
       " 0.01\n",
       " 0.02\n",
       " 0.06\n",
       " 0.03\n",
       " 0.02\n",
       " 0.03\n",
       " 0.05\n",
       " 0.08\n",
       " 0.12\n",
       " 0.15\n",
       " 0.06\n",
       " 0.03\n",
       " 0.02\n",
       " 0.02\n",
       " 0.02"
      ]
     },
     "execution_count": 4,
     "metadata": {},
     "output_type": "execute_result"
    }
   ],
   "source": [
    "LOAD_SCHEDULE = [0.02, 0.01, 0.01, 0.01, 0.01, 0.04, 0.07, 0.06,0.05, 0.01, 0.02, 0.06, 0.03, 0.02, 0.03, 0.05, 0.08, 0.12, 0.15, 0.06, 0.03, 0.02, 0.02, 0.02]"
   ]
  },
  {
   "cell_type": "code",
   "execution_count": 5,
   "metadata": {},
   "outputs": [
    {
     "data": {
      "text/plain": [
       "1.0"
      ]
     },
     "execution_count": 5,
     "metadata": {},
     "output_type": "execute_result"
    }
   ],
   "source": [
    "sum(LOAD_SCHEDULE)"
   ]
  },
  {
   "cell_type": "markdown",
   "metadata": {},
   "source": []
  },
  {
   "cell_type": "markdown",
   "metadata": {},
   "source": [
    "### SIMPLE Model Data"
   ]
  },
  {
   "cell_type": "code",
   "execution_count": 6,
   "metadata": {},
   "outputs": [],
   "source": [
    "# Simple Model Params \n",
    "\n",
    "#D_ = [3,5,3,9,8,7,5,4,3,2]; # demand (non-hvac) \n",
    "#OCC = [1,0,0,1,1,1,0,0,0,1]; # occupancy \n",
    "#TOD = [1,2,3,4,5,1,2,3,4,5]; # time of day \n",
    "#t = collect(1:10); # time index \n",
    "#ODT = [3,2,3,6,5,4,3,2,4,3]; # outdoor temp \n",
    "#TOU = [2,2,3,4,2,2,2,3,4,2]; # time of use rate \n",
    "\n",
    "##################################\n",
    "# SIMPLE PARAMS \n",
    "\n",
    "SOC_MAX = 13500; \n",
    "PENALTY_SOC = -100\n",
    "C_RATE_MAX = 2000;  \n",
    "TOD_RESOLUTION = 5; \n",
    "TOU_SCHEDULE = [0.28, 0.28, 0.28, 0.38, 0.38]; # $/Wh \n",
    "OCC_SCHEDULE = [0.99, 0.02, 0.02, 0.95, 0.95]\n",
    "SP_ADJ_SIZE = 3; \n",
    "\n",
    "# Thermal Params \n",
    "TCMFT_LO = 67; # Lower thermal comfort band temp \n",
    "TCMFT_HI = 71; # Upper thermal comfort band temp \n",
    "PENALTY_SP = -100\n",
    "\n",
    "\n",
    "# Building Params \n",
    "SP_MIN = 60; \n",
    "SP_MAX = 80; \n",
    "PENALTY_DISCOMF = -150\n",
    "HRLY_PROB_SP_ADJ = 0.05\n",
    "PROB_SP_ADJ = HRLY_PROB_SP_ADJ * TOD_RESOLUTION\n",
    "D_MAX = 10; \n",
    "LOAD_NOISE = 2; \n",
    "LOAD_SCHEDULE = [0.1, 0.2, 0.05, 0.4, 0.25]\n",
    "AVG_DAILY_LOAD = 30000 # Wh \n",
    "\n",
    "# Weather Params \n",
    "ODT_MAX = 77; \n",
    "ODT_MIN = 58; \n",
    "ODT_NOISE = 2; \n",
    "\n",
    "SIM_DURATION = 10; \n",
    "\n",
    "DISCOUNT = 0.99;\n",
    "\n"
   ]
  },
  {
   "cell_type": "markdown",
   "metadata": {},
   "source": [
    "# Simple Model Params \n",
    "\n",
    "D_ = [3,5,3,9,8,7,5,4,3,2]; # demand (non-hvac) \n",
    "OCC = [1,0,0,1,1,1,0,0,0,1]; # occupancy \n",
    "TOD = [1,2,3,4,5,1,2,3,4,5]; # time of day \n",
    "t = collect(1:10); # time index \n",
    "ODT = [3,2,3,6,5,4,3,2,4,3]; # outdoor temp \n",
    "TOU = [2,2,3,4,2,2,2,3,4,2]; # time of use rate \n",
    "\n",
    "##################################\n",
    "# SIMPLE PARAMS \n",
    "\n",
    "SOC_MAX = 10; \n",
    "PENALTY_SOC = -20\n",
    "C_RATE_MAX = 3;  \n",
    "TOD_RESOLUTION = 5; \n",
    "TOU_SCHEDULE = [2,2,5,5,2]; # $/Wh \n",
    "OCC_SCHEDULE = [0.99, 0.02, 0.02, 0.95, 0.95]\n",
    "SP_ADJ_SIZE = 3; \n",
    "\n",
    "# Thermal Params \n",
    "TCMFT_LO = 4; # Lower thermal comfort band temp \n",
    "TCMFT_HI = 6; # Upper thermal comfort band temp \n",
    "PENALTY_SP = -10 \n",
    "\n",
    "\n",
    "# Building Params \n",
    "SP_MIN = 1; \n",
    "SP_MAX = 10; \n",
    "PENALTY_DISCOMF = -15\n",
    "HRLY_PROB_SP_ADJ = 0.05\n",
    "PROB_SP_ADJ = HRLY_PROB_SP_ADJ * TOD_RESOLUTION\n",
    "D_MAX = 10; \n",
    "LOAD_NOISE = 2; \n",
    "LOAD_SCHEDULE = [0.1, 0.2, 0.05, 0.4, 0.25]\n",
    "AVG_DAILY_LOAD = 10 # Wh \n",
    "\n",
    "# Weather Params \n",
    "ODT_MAX = 9; \n",
    "ODT_MIN = 1; \n",
    "ODT_NOISE = 0.5; \n",
    "\n",
    "SIM_DURATION = 20; \n",
    "\n",
    "DISCOUNT = 0.99;\n",
    "\n"
   ]
  },
  {
   "cell_type": "markdown",
   "metadata": {},
   "source": [
    "## States\n",
    "Data container representing the state of the smarthome "
   ]
  },
  {
   "cell_type": "markdown",
   "metadata": {},
   "source": [
    "struct SmartHomeState\n",
    "    d_hv::Int64 # demand of hvac (Wh, rounded to nearest 100Wh) \n",
    "    d_::Int64 # demand of all other loads (Wh, rounded to nearest 100Wh)\n",
    "    soc::Int64 # state of charge of battery (Wh, rounded to nearest 100 Wh) \n",
    "    rmt::Int64 # room temperature (degF, to nearest degree) \n",
    "    occ::Bool # occupancy status \n",
    "    hsp::Int64 # heating setpoint (degF, to nearest degree) \n",
    "    csp::Int64 # cooling setpoint (degF, to nearest degree) \n",
    "    tod::Int64 # time of day (hr, 0-23) \n",
    "    odt::Int64 # outdoor temp (degF, to nearest degree) \n",
    "    tou::Int64 # time of use rate ($0.01, to nearest cent) \n",
    "    t::Int64 # current time index \n",
    "end"
   ]
  },
  {
   "cell_type": "code",
   "execution_count": 7,
   "metadata": {},
   "outputs": [],
   "source": [
    "struct SmartHomeState\n",
    "    d_hv::Float64 # demand of hvac (Wh, rounded to nearest 100Wh) \n",
    "    d_::Float64 # demand of all other loads (Wh, rounded to nearest 100Wh)\n",
    "    soc::Float64 # state of charge of battery (Wh, rounded to nearest 100 Wh) \n",
    "    rmt::Float64 # room temperature (degF, to nearest degree) \n",
    "    occ::Bool # occupancy status \n",
    "    hsp::Float64 # heating setpoint (degF, to nearest degree) \n",
    "    csp::Float64 # cooling setpoint (degF, to nearest degree) \n",
    "    tod::Int64 # time of day (hr, 0-23) \n",
    "    odt::Float64 # outdoor temp (degF, to nearest degree) \n",
    "    tou::Float64 # time of use rate ($0.01, to nearest cent) \n",
    "    t::Int64 # current time index \n",
    "end"
   ]
  },
  {
   "cell_type": "markdown",
   "metadata": {},
   "source": [
    "## Actions\n",
    "Actions are defined by both the charge rate of tha battery and the change in thermostat setpoint "
   ]
  },
  {
   "cell_type": "code",
   "execution_count": 8,
   "metadata": {},
   "outputs": [],
   "source": [
    "struct SmartHomeAction\n",
    "    c::Float64 # Charge rate of battery (Wh, to nearest 100 Wh) \n",
    "    dhsp::Float64 # Change in heat setpoint (degF, to nearest degree) \n",
    "    dcsp::Float64 # Change in cool setpoint (degF, to nearest degree) \n",
    "end"
   ]
  },
  {
   "cell_type": "markdown",
   "metadata": {},
   "source": [
    "## MDP \n",
    "SmartHome data container is defined. It holds all the information needed to define the MDP tuple (S, A, T, R). \n"
   ]
  },
  {
   "cell_type": "code",
   "execution_count": 9,
   "metadata": {},
   "outputs": [],
   "source": [
    "# the smarthome mdp type \n",
    "struct SmartHomeMDP <: MDP{SmartHomeState, SmartHomeAction} \n",
    "    # Note that our MDP is parametrized by the state and the action\n",
    "    # Given Data \n",
    "    #D_::Array{Float64}\n",
    "    #OCC::Array{Bool}\n",
    "    #TOD::Array{Float64}\n",
    "    #t::Array{Float64}\n",
    "    #ODT::Array{Float64}\n",
    "    #TOU::Array{Float64} \n",
    "    \n",
    "    # Battery Params\n",
    "    soc_max::Float64 \n",
    "    c_max::Float64\n",
    "    penalty_soc::Float64\n",
    "    \n",
    "    # Comfort Params \n",
    "    tcomf_lo::Float64\n",
    "    tcomf_hi::Float64\n",
    "    prob_sp_adj::Float64\n",
    "    penalty_discomf::Float64 \n",
    "    \n",
    "    # Building Params \n",
    "    d_max::Float64 \n",
    "    penalty_sp::Float64 \n",
    "end\n",
    "\n",
    "#SmartHomeMDP() = SmartHomeMDP(\n",
    "#    D_, OCC, TOD, t, ODT, TOU, SOC_MAX, C_RATE_MAX, \n",
    "#    PENALTY_SOC, TCMFT_LO, TCMFT_HI, PROB_SP_ADJ, \n",
    "#    PENALTY_DISCOMF, D_MAX, PENALTY_SP); \n",
    "\n",
    "SmartHomeMDP() = SmartHomeMDP(\n",
    "    SOC_MAX, C_RATE_MAX, \n",
    "    PENALTY_SOC, TCMFT_LO, TCMFT_HI, PROB_SP_ADJ, \n",
    "    PENALTY_DISCOMF, D_MAX, PENALTY_SP); "
   ]
  },
  {
   "cell_type": "markdown",
   "metadata": {},
   "source": [
    "## Define gen \n",
    "Implement the complete generative models for both the SmartHomeMDP and SmartHomePOMDP. \n",
    "\n",
    "### State transition model \n",
    "- d_hv: f(hsp, csp, odt) \n",
    "- d_: probabilistic f(d_(t-1), tod, rand)\n",
    "- soc: f(soc(t-1), c(t-1)) \n",
    "- rmt: f(hsp, csp, odt) \n",
    "- occ: probabilistic f(tod, rand) \n",
    "- hsp: f(hsp(t-1), dhsp, rand) \n",
    "- csp: f(csp(t-1), dcsp, rand) \n",
    "- tod: f(tod(t-1))\n",
    "- odt: f(odt(t-1), tod) \n",
    "- tou: f(tod) \n",
    "\n",
    "### Observation model \n",
    "- occ_d: f(occ, p_tp, p_fp) \n",
    "    - p_tp: true pos prob, \n",
    "    - p_fp: false pos prob\n",
    "    \n",
    "### Reward model\n",
    "Reward model is composed of the following components: \n",
    "- TOU charge demand_: f(tou, d_) \n",
    "- TOU charge on demand_hvac: f(tou, d_hv) \n",
    "- TOU charge on charge_rate: f(tou, c) \n",
    "- Discomfort Penalty: f(occ, rmt) \n",
    "- SOC violation Penalty: f(soc)  \n",
    "- SP violation penalty: f(hsp, csp) \n",
    "- Demand Charge: f(D_, D_HV, C) depends on all timesteps for the entire duration \n"
   ]
  },
  {
   "cell_type": "code",
   "execution_count": null,
   "metadata": {},
   "outputs": [],
   "source": []
  },
  {
   "cell_type": "code",
   "execution_count": 20,
   "metadata": {},
   "outputs": [
    {
     "ename": "LoadError",
     "evalue": "syntax: missing comma or ) in argument list",
     "output_type": "error",
     "traceback": [
      "syntax: missing comma or ) in argument list",
      ""
     ]
    }
   ],
   "source": [
    "function update_sps(m::SmartHomeMDP, s::SmartHomeState, a::SmartHomeAction, rng) \n",
    "    if a.dhsp != 0 || a.dcsp != 0 \n",
    "        # If action=adjust, deterministically set thermostat \n",
    "        hsp = min(max(s.hsp+a.dhsp, SP_MIN), SP_MAX) \n",
    "        csp = min(max(s.csp+a.dcsp, SP_MIN), SP_MAX) \n",
    "        #return s.hsp + a.dhsp, s.csp + a.dcsp\n",
    "        return hsp, csp \n",
    "    else\n",
    "        # Else, probabilistic adjustment based on thermal comfort \n",
    "        if rand(rng) < m.prob_sp_adj\n",
    "            # Adjust setpoints \n",
    "            setpoints = [round(x) for x in rand(rng, Distributions.Uniform(m.tcomf_lo, m.tcomf_hi),2)] # TODO: Figure out why not working \n",
    "            center = (m.tcomf_lo + m.tcomf_hi)/2\n",
    "            #setpoints = [round(min(max(x, m.tcomf_lo), m.tcomf_hi)) for x in rand(rng, Normal(center,2),2)]\n",
    "            return minimum(setpoints), maximum(setpoints) \n",
    "        else\n",
    "            # Maintain previous SPs\n",
    "            return s.hsp, s.csp \n",
    "        end\n",
    "    end\n",
    "end\n",
    "\n",
    "function hv_model(hsp, csp, odt, rng) \n",
    "    # Fitted regression model based hv_model data analysis. \n",
    "    # Model was fit to predict kWh/day \n",
    "    # d_hv = a*cdd + b*hdd + c + N(0,RMSE)  \n",
    "    \n",
    "    cdd = max(odt-csp,0) # cdd in an hour \n",
    "    hdd = max(hsp-odt,0) # hdd in an hour \n",
    "    \n",
    "    a = 2.1898; b = 0.9476; c = 0.5394; RMSE = 6.146; \n",
    "    error = rand(rng, Normal(0,RMSE), 1)[1]\n",
    "    \n",
    "    d_hv = a*cdd + b*hdd + c + error\n",
    "    d_hv = round(d_hv*1000/float(TOD_RESOLUTION, digits=-2) # kWh/day -> Wh/hr(to nearest 100Wh) \n",
    "    \n",
    "    return d_hv\n",
    "end\n",
    "\n",
    "function hv_model_simple(hsp, csp, odt, rng)\n",
    "    # Extremely simplified model to work with SIMPLE DATA \n",
    "    cdd = max(odt-csp,0) # cdd in an hour \n",
    "    hdd = max(hsp-odt,0) # hdd in an hour \n",
    "    \n",
    "    a = 1; b = 0.2; RMSE = 0.05; \n",
    "    error = rand(rng, Normal(0,RMSE), 1)[1]\n",
    "    \n",
    "    d_hv = a*cdd + b*hdd + error \n",
    "    d_hv = max(min(round(d_hv),10), 0) \n",
    "    \n",
    "    return d_hv\n",
    "end\n",
    "\n",
    "function update_d_(d_, tod)\n",
    "    # TODO: fit model dependent on TOD\n",
    "    # TODO: adjust clamp when realistic data (maybe functionalize clamp) \n",
    "    # Maybe fit a BN to this data? \n",
    "    noise_d_ = float(LOAD_NOISE)\n",
    "    d_ = float(LOAD_SCHEDULE[tod]* AVG_DAILY_LOAD) #OVERRIDE PREVIOUS VALUE \n",
    "    \n",
    "    d_ += rand(rng, Normal(0,noise_d_), 1)[1] # Probabilistic Change \n",
    "    d_ = max(min(round(d_),10), 0) # Clamp to 0-10 int\n",
    "    #d_ = max(min(round(d_),10000,0) \n",
    "    return d_\n",
    "end\n",
    "\n",
    "function update_occ(occ, tod)\n",
    "    # TODO: fit model dependent on TOD \n",
    "    # TODO: adjust clamp when realistic data (maybe functionalize clamp) \n",
    "    # Maybe fit a BN to this data? \n",
    "    p_change_occ = 0.3\n",
    "    p_occ = OCC_SCHEDULE[tod] \n",
    "    \n",
    "    #return rand(rng) < p_change_occ ? !occ : occ\n",
    "    return rand(rng) < p_occ \n",
    "end\n",
    "\n",
    "function update_odt(tod)\n",
    "    # Fitted to a sine wave with noise \n",
    "    # TODO: need to adjust equation params when converting to realistic data \n",
    "    # TODO: adjust clamp when realistic data (maybe functionalize clamp) \n",
    "    # TODO: fit model dependent on TOD \n",
    "    # Maybe fit a BN to this data? \n",
    "\n",
    "    noise_odt = float(ODT_NOISE); \n",
    "    temp_max = float(ODT_MAX);\n",
    "    temp_min = float(ODT_MIN);\n",
    "    tod_per_day = float(TOD_RESOLUTION);\n",
    "    \n",
    "    #noise_odt = 1; \n",
    "    #temp_max = 7.5; \n",
    "    #temp_min = 2.5;\n",
    "    #tod_per_day = 5; \n",
    "    \n",
    "    amp = (temp_max - temp_min) / 2\n",
    "    mean = (temp_max + temp_min) / 2\n",
    "    \n",
    "    odt = amp*sin((tod+1.75)*pi/(tod_per_day/2)) + mean\n",
    "    odt += rand(rng, Normal(0,noise_odt), 1)[1] \n",
    "    #odt = max(min(round(odt),temp_max), temp_min) # Clamp to 0-10 int \n",
    "    \n",
    "    return odt\n",
    "end\n",
    "\n",
    "function update_tou(tod) \n",
    "    #TOU_SCHEDULE = [2,2,3,4,2]; \n",
    "    # TODO: Change tou_schedule to take as model input rather than hard code \n",
    "    tou = TOU_SCHEDULE[tod] \n",
    "    return tou \n",
    "end\n",
    "\n",
    "\n",
    "# MDP Generative Model \n",
    "function POMDPs.gen(m::SmartHomeMDP, s::SmartHomeState, a::SmartHomeAction, rng) \n",
    "    # transition model \n",
    "    t = s.t + 1 # Deterministic, fixed \n",
    "    #tod = rem(s.tod + 1, 24) # Deterministic, fixed \n",
    "    tod = rem(s.tod, TOD_RESOLUTION) + 1 # TODO: THIS IS FOR SIMPLE MODEL \n",
    "    \n",
    "    #d_ = m.D_[s.t+1] # Deterministic, fixed (should/could it be probabilistic?)\n",
    "    #occ = OCC[s.t+1] # Deterministic, fixed (should/could it be probabilistic?) \n",
    "    #odt = ODT[s.t+1] # Deterministic, fixed \n",
    "    #tou = TOU[s.t+1] # Deterministic, fixed \n",
    "    \n",
    "    d_ = update_d_(s.d_, tod) # Probabilistic\n",
    "    occ = update_occ(s.occ, tod) # Probabilistic\n",
    "    odt = update_odt(tod) # Probabilistic\n",
    "    tou = update_tou(tod) # By Schedule\n",
    "    \n",
    "    \n",
    "    (hsp, csp) = update_sps(m, s, a, rng) \n",
    "    #d_hv = hv_model(hsp, csp, odt, rng) # Based on actual fit \n",
    "    #d_hv = hv_model_simple(hsp, csp, s.odt, rng) \n",
    "    d_hv = hv_model(hsp, csp, s.odt, rng) \n",
    "    soc = min(max(s.soc + a.c, 0), SOC_MAX) \n",
    "    rmt = min(max(hsp,odt),csp)\n",
    "    \n",
    "    sp = SmartHomeState(d_hv, d_, soc, rmt, occ, hsp, csp, tod, odt, tou, t)\n",
    "    \n",
    "\n",
    "    # observation model \n",
    "    # N/A\n",
    "    \n",
    "    # reward model \n",
    "    r = -tou * (s.d_ + s.d_hv + soc - s.soc)\n",
    "    r += (s.rmt > m.tcomf_hi || s.rmt < m.tcomf_lo) ? m.penalty_discomf : 0 \n",
    "    r += (s.soc > m.soc_max || s.soc < 0) ? m.penalty_soc : 0 \n",
    "    r += (s.hsp > s.csp) ? m.penalty_sp : 0 # HSP must be less than or equal to CSP \n",
    "    \n",
    "    \n",
    "    # create and return a NamedTuple \n",
    "    return (sp=sp, r=r) # For MDP \n",
    "end\n",
    "\n"
   ]
  },
  {
   "cell_type": "markdown",
   "metadata": {},
   "source": [
    "### TODO: Convert above code from MDP -> POMDP"
   ]
  },
  {
   "cell_type": "code",
   "execution_count": 11,
   "metadata": {},
   "outputs": [
    {
     "ename": "UndefVarError",
     "evalue": "UndefVarError: SmartHomePOMDP not defined",
     "output_type": "error",
     "traceback": [
      "UndefVarError: SmartHomePOMDP not defined",
      "",
      "Stacktrace:",
      " [1] top-level scope at In[11]:1"
     ]
    }
   ],
   "source": [
    "# POMDP Generative Model \n",
    "function POMDPs.gen(m::SmartHomePOMDP, s::SmartHomeState, a::SmartHomeAction, rng) \n",
    "    # transition model \n",
    "    # should be same as MDP \n",
    "    \n",
    "    # observation model \n",
    "    if sp # Opccupied \n",
    "        o = rand(rng) < m.p_occ_tp\n",
    "    else # Not Occupied \n",
    "        o = rand(rng) < m.p_occ_fp\n",
    "    end\n",
    "    \n",
    "    \n",
    "    # reward model \n",
    "    \n",
    "    \n",
    "    # create and return a NamedTuple \n",
    "    return (sp=sp, o=o, r=r) # For POMDP \n",
    "end\n",
    "\n"
   ]
  },
  {
   "cell_type": "code",
   "execution_count": 12,
   "metadata": {},
   "outputs": [],
   "source": [
    "sh = SmartHomeMDP(); "
   ]
  },
  {
   "cell_type": "markdown",
   "metadata": {},
   "source": [
    "## Step Through Random Policy "
   ]
  },
  {
   "cell_type": "code",
   "execution_count": 13,
   "metadata": {},
   "outputs": [],
   "source": [
    "# SIMPLE VALUES \n",
    "#POMDPs.initialstate(m::SmartHomeMDP, rng::MersenneTwister) = SmartHomeState(5, 5, 5, 5, true, 4, 6, 1, 5, 2, 1)  \n",
    "#POMDPs.initialstate_distribution(m::SmartHomeMDP) = SparseCat([SmartHomeState(5, 5, 5, 5, true, 4, 6, 1, 5, 2, 1), SmartHomeState(4, 5, 5, 5, true, 4, 6, 1, 5, 2, 1)], [0.4, 0.6])\n",
    "\n",
    "\n",
    "\n",
    "# Real Values Initial State\n",
    "POMDPs.initialstate(m::SmartHomeMDP, rng::MersenneTwister) = SmartHomeState(0, 0, 0.5*SOC_MAX, 68, true, 68, 70, 1, 66, TOU_SCHEDULE[1], 1)  \n",
    "#POMDPs.initialstate_distribution(m::SmartHomeMDP) = SparseCat([SmartHomeState(5, 5, 5, 5, true, 4, 6, 1, 5, 2, 1), SmartHomeState(4, 5, 5, 5, true, 4, 6, 1, 5, 2, 1)], [0.4, 0.6])\n",
    "\n",
    "\n",
    "# TODO: Enumerate more actions \n",
    "POMDPs.actions(m::SmartHomeMDP) = [\n",
    "    SmartHomeAction(-C_RATE_MAX ,0,0),            SmartHomeAction(0,0,0),            SmartHomeAction(C_RATE_MAX,0,0), \n",
    "    SmartHomeAction(-C_RATE_MAX ,SP_ADJ_SIZE,0),  SmartHomeAction(0,SP_ADJ_SIZE,0),  SmartHomeAction(C_RATE_MAX,SP_ADJ_SIZE,0), \n",
    "    SmartHomeAction(-C_RATE_MAX ,0,SP_ADJ_SIZE),  SmartHomeAction(0,0,SP_ADJ_SIZE),  SmartHomeAction(C_RATE_MAX,0,SP_ADJ_SIZE), \n",
    "    SmartHomeAction(-C_RATE_MAX ,-SP_ADJ_SIZE,0), SmartHomeAction(0,-SP_ADJ_SIZE,0), SmartHomeAction(C_RATE_MAX,-SP_ADJ_SIZE,0), \n",
    "    SmartHomeAction(-C_RATE_MAX ,0,-SP_ADJ_SIZE), SmartHomeAction(0,0,-SP_ADJ_SIZE), SmartHomeAction(C_RATE_MAX,1,-SP_ADJ_SIZE)]\n",
    "\n",
    "POMDPs.discount(m::SmartHomeMDP) = DISCOUNT\n",
    "\n"
   ]
  },
  {
   "cell_type": "code",
   "execution_count": 14,
   "metadata": {},
   "outputs": [
    {
     "ename": "DistributionNotImplemented",
     "evalue": "\n\nPOMDPs.jl could not find an implementation for DDN Node :sp. Consider the following options:\n\n1) Implement POMDPs.gen(::SmartHomeMDP, ::SmartHomeState, ::SmartHomeAction, ::AbstractRNG) to return a NamedTuple with key :sp.\n\nClosest candidates are:\n  gen(::Union{MDP, POMDP}, ::Any, ::Any, ::Any) at /Users/coreyshono/.julia/packages/POMDPs/XDCTo/src/gen_impl.jl:82\n  gen(!Matched::GenericDDNNode, ::Any...) at /Users/coreyshono/.julia/packages/POMDPs/XDCTo/src/ddn_struct.jl:165\n  gen(!Matched::DistributionDDNNode, ::Any, ::Any...) at /Users/coreyshono/.julia/packages/POMDPs/XDCTo/src/ddn_struct.jl:117\n  ...\n\n2) Implement POMDPs.gen(::DDNNode{:sp}, ::SmartHomeMDP, ::Any, ::Any, ::Any, ::AbstractRNG).\n\nClosest candidates are:\n  gen(::DDNNode{x}, ::Any, ::Any...) where x at /Users/coreyshono/.julia/packages/POMDPs/XDCTo/src/gen_impl.jl:67\n  gen(!Matched::GenericDDNNode, ::Any...) at /Users/coreyshono/.julia/packages/POMDPs/XDCTo/src/ddn_struct.jl:165\n  gen(!Matched::DistributionDDNNode, ::Any, ::Any...) at /Users/coreyshono/.julia/packages/POMDPs/XDCTo/src/ddn_struct.jl:117\n  ...\n\n3) Implement transition(::SmartHomeMDP, ::Any, ::Any, ::Any).\n\nClosest candidates are:\n  transition(::Any, ::Any, ::Any) at /Users/coreyshono/.julia/packages/POMDPs/XDCTo/src/errors.jl:107\n  transition(!Matched::FullyObservablePOMDP, ::Any, ::Any) at /Users/coreyshono/.julia/packages/POMDPModelTools/p5dFB/src/fully_observable_pomdp.jl:43\n  transition(!Matched::UnderlyingMDP{P,S,A}, ::S, ::A) where {P, S, A} at /Users/coreyshono/.julia/packages/POMDPModelTools/p5dFB/src/underlying_mdp.jl:21\n  ...\n\nThis error message uses heuristics to make recommendations for POMDPs.jl problem implementers. If it was misleading or you believe there is an inconsistency, please file an issue: https://github.com/JuliaPOMDP/POMDPs.jl/issues/new\n",
     "output_type": "error",
     "traceback": [
      "\n\nPOMDPs.jl could not find an implementation for DDN Node :sp. Consider the following options:\n\n1) Implement POMDPs.gen(::SmartHomeMDP, ::SmartHomeState, ::SmartHomeAction, ::AbstractRNG) to return a NamedTuple with key :sp.\n\nClosest candidates are:\n  gen(::Union{MDP, POMDP}, ::Any, ::Any, ::Any) at /Users/coreyshono/.julia/packages/POMDPs/XDCTo/src/gen_impl.jl:82\n  gen(!Matched::GenericDDNNode, ::Any...) at /Users/coreyshono/.julia/packages/POMDPs/XDCTo/src/ddn_struct.jl:165\n  gen(!Matched::DistributionDDNNode, ::Any, ::Any...) at /Users/coreyshono/.julia/packages/POMDPs/XDCTo/src/ddn_struct.jl:117\n  ...\n\n2) Implement POMDPs.gen(::DDNNode{:sp}, ::SmartHomeMDP, ::Any, ::Any, ::Any, ::AbstractRNG).\n\nClosest candidates are:\n  gen(::DDNNode{x}, ::Any, ::Any...) where x at /Users/coreyshono/.julia/packages/POMDPs/XDCTo/src/gen_impl.jl:67\n  gen(!Matched::GenericDDNNode, ::Any...) at /Users/coreyshono/.julia/packages/POMDPs/XDCTo/src/ddn_struct.jl:165\n  gen(!Matched::DistributionDDNNode, ::Any, ::Any...) at /Users/coreyshono/.julia/packages/POMDPs/XDCTo/src/ddn_struct.jl:117\n  ...\n\n3) Implement transition(::SmartHomeMDP, ::Any, ::Any, ::Any).\n\nClosest candidates are:\n  transition(::Any, ::Any, ::Any) at /Users/coreyshono/.julia/packages/POMDPs/XDCTo/src/errors.jl:107\n  transition(!Matched::FullyObservablePOMDP, ::Any, ::Any) at /Users/coreyshono/.julia/packages/POMDPModelTools/p5dFB/src/fully_observable_pomdp.jl:43\n  transition(!Matched::UnderlyingMDP{P,S,A}, ::S, ::A) where {P, S, A} at /Users/coreyshono/.julia/packages/POMDPModelTools/p5dFB/src/underlying_mdp.jl:21\n  ...\n\nThis error message uses heuristics to make recommendations for POMDPs.jl problem implementers. If it was misleading or you believe there is an inconsistency, please file an issue: https://github.com/JuliaPOMDP/POMDPs.jl/issues/new\n",
      "",
      "Stacktrace:",
      " [1] distribution_impl_error(::Symbol, ::Function, ::Type, ::Array{DataType,1}) at /Users/coreyshono/.julia/packages/POMDPs/XDCTo/src/errors.jl:77",
      " [2] transition(::SmartHomeMDP, ::SmartHomeState, ::SmartHomeAction) at /Users/coreyshono/.julia/packages/POMDPs/XDCTo/src/errors.jl:107",
      " [3] macro expansion at /Users/coreyshono/.julia/packages/POMDPs/XDCTo/src/ddn_struct.jl:119 [inlined]",
      " [4] gen(::DistributionDDNNode{typeof(transition)}, ::SmartHomeMDP, ::SmartHomeState, ::SmartHomeAction, ::MersenneTwister) at /Users/coreyshono/.julia/packages/POMDPs/XDCTo/src/ddn_struct.jl:117",
      " [5] macro expansion at /Users/coreyshono/.julia/packages/POMDPs/XDCTo/src/gen_impl.jl:78 [inlined]",
      " [6] gen(::DDNNode{:sp}, ::SmartHomeMDP, ::SmartHomeState, ::SmartHomeAction, ::MersenneTwister) at /Users/coreyshono/.julia/packages/POMDPs/XDCTo/src/gen_impl.jl:67",
      " [7] macro expansion at /Users/coreyshono/.julia/packages/POMDPs/XDCTo/src/gen_impl.jl:46 [inlined]",
      " [8] macro expansion at ./none:0 [inlined]",
      " [9] genout(::DDNOut{(:sp, :r)}, ::DDNStructure{NamedTuple{(:s, :a, :sp, :r),Tuple{InputDDNNode,InputDDNNode,DistributionDDNNode{typeof(transition)},FunctionDDNNode{typeof(reward)}}},NamedTuple{(:s, :a, :sp, :r),Tuple{Tuple{},Tuple{},Tuple{DDNNode{:s},DDNNode{:a}},Tuple{DDNNode{:s},DDNNode{:a},DDNNode{:sp}}}}}, ::SmartHomeMDP, ::SmartHomeState, ::SmartHomeAction, ::MersenneTwister) at ./none:0",
      " [10] macro expansion at /Users/coreyshono/.julia/packages/POMDPs/XDCTo/src/gen_impl.jl:19 [inlined]",
      " [11] gen(::DDNOut{(:sp, :r)}, ::SmartHomeMDP, ::SmartHomeState, ::SmartHomeAction, ::MersenneTwister) at /Users/coreyshono/.julia/packages/POMDPs/XDCTo/src/gen_impl.jl:4",
      " [12] iterate(::POMDPSimulators.MDPSimIterator{(:s, :a, :r),SmartHomeMDP,RandomPolicy{MersenneTwister,SmartHomeMDP,BeliefUpdaters.NothingUpdater},MersenneTwister,SmartHomeState}, ::Tuple{Int64,SmartHomeState}) at /Users/coreyshono/.julia/packages/POMDPSimulators/V9qfg/src/stepthrough.jl:53",
      " [13] iterate(::POMDPSimulators.MDPSimIterator{(:s, :a, :r),SmartHomeMDP,RandomPolicy{MersenneTwister,SmartHomeMDP,BeliefUpdaters.NothingUpdater},MersenneTwister,SmartHomeState}) at /Users/coreyshono/.julia/packages/POMDPSimulators/V9qfg/src/stepthrough.jl:46",
      " [14] top-level scope at ./In[14]:3"
     ]
    }
   ],
   "source": [
    "rand_policy = RandomPolicy(sh)\n",
    "iter = 1 \n",
    "for (s, a, r) in stepthrough(sh, rand_policy, \"s,a,r\", max_steps=100)\n",
    "    if iter < SIM_DURATION\n",
    "        println(string(\"TOD: \", s.tod, \", SOC: \", s.soc, \", OCC: \", s.occ, \", ODT: \", s.odt, \", HSP/CSP: \", s.hsp, \"/\", s.csp)) \n",
    "    end\n",
    "    iter += 1\n",
    "end"
   ]
  },
  {
   "cell_type": "markdown",
   "metadata": {},
   "source": [
    "## Solve MDP \n",
    "\n",
    "Implementing on MonteCarlo Tree Search "
   ]
  },
  {
   "cell_type": "code",
   "execution_count": 15,
   "metadata": {},
   "outputs": [
    {
     "ename": "DistributionNotImplemented",
     "evalue": "\n\nPOMDPs.jl could not find an implementation for DDN Node :sp. Consider the following options:\n\n1) Implement POMDPs.gen(::SmartHomeMDP, ::SmartHomeState, ::SmartHomeAction, ::AbstractRNG) to return a NamedTuple with key :sp.\n\nClosest candidates are:\n  gen(::Union{MDP, POMDP}, ::Any, ::Any, ::Any) at /Users/coreyshono/.julia/packages/POMDPs/XDCTo/src/gen_impl.jl:82\n  gen(!Matched::GenericDDNNode, ::Any...) at /Users/coreyshono/.julia/packages/POMDPs/XDCTo/src/ddn_struct.jl:165\n  gen(!Matched::DistributionDDNNode, ::Any, ::Any...) at /Users/coreyshono/.julia/packages/POMDPs/XDCTo/src/ddn_struct.jl:117\n  ...\n\n2) Implement POMDPs.gen(::DDNNode{:sp}, ::SmartHomeMDP, ::Any, ::Any, ::Any, ::AbstractRNG).\n\nClosest candidates are:\n  gen(::DDNNode{x}, ::Any, ::Any...) where x at /Users/coreyshono/.julia/packages/POMDPs/XDCTo/src/gen_impl.jl:67\n  gen(!Matched::GenericDDNNode, ::Any...) at /Users/coreyshono/.julia/packages/POMDPs/XDCTo/src/ddn_struct.jl:165\n  gen(!Matched::DistributionDDNNode, ::Any, ::Any...) at /Users/coreyshono/.julia/packages/POMDPs/XDCTo/src/ddn_struct.jl:117\n  ...\n\n3) Implement transition(::SmartHomeMDP, ::Any, ::Any, ::Any).\n\nClosest candidates are:\n  transition(::Any, ::Any, ::Any) at /Users/coreyshono/.julia/packages/POMDPs/XDCTo/src/errors.jl:107\n  transition(!Matched::FullyObservablePOMDP, ::Any, ::Any) at /Users/coreyshono/.julia/packages/POMDPModelTools/p5dFB/src/fully_observable_pomdp.jl:43\n  transition(!Matched::UnderlyingMDP{P,S,A}, ::S, ::A) where {P, S, A} at /Users/coreyshono/.julia/packages/POMDPModelTools/p5dFB/src/underlying_mdp.jl:21\n  ...\n\nThis error message uses heuristics to make recommendations for POMDPs.jl problem implementers. If it was misleading or you believe there is an inconsistency, please file an issue: https://github.com/JuliaPOMDP/POMDPs.jl/issues/new\n",
     "output_type": "error",
     "traceback": [
      "\n\nPOMDPs.jl could not find an implementation for DDN Node :sp. Consider the following options:\n\n1) Implement POMDPs.gen(::SmartHomeMDP, ::SmartHomeState, ::SmartHomeAction, ::AbstractRNG) to return a NamedTuple with key :sp.\n\nClosest candidates are:\n  gen(::Union{MDP, POMDP}, ::Any, ::Any, ::Any) at /Users/coreyshono/.julia/packages/POMDPs/XDCTo/src/gen_impl.jl:82\n  gen(!Matched::GenericDDNNode, ::Any...) at /Users/coreyshono/.julia/packages/POMDPs/XDCTo/src/ddn_struct.jl:165\n  gen(!Matched::DistributionDDNNode, ::Any, ::Any...) at /Users/coreyshono/.julia/packages/POMDPs/XDCTo/src/ddn_struct.jl:117\n  ...\n\n2) Implement POMDPs.gen(::DDNNode{:sp}, ::SmartHomeMDP, ::Any, ::Any, ::Any, ::AbstractRNG).\n\nClosest candidates are:\n  gen(::DDNNode{x}, ::Any, ::Any...) where x at /Users/coreyshono/.julia/packages/POMDPs/XDCTo/src/gen_impl.jl:67\n  gen(!Matched::GenericDDNNode, ::Any...) at /Users/coreyshono/.julia/packages/POMDPs/XDCTo/src/ddn_struct.jl:165\n  gen(!Matched::DistributionDDNNode, ::Any, ::Any...) at /Users/coreyshono/.julia/packages/POMDPs/XDCTo/src/ddn_struct.jl:117\n  ...\n\n3) Implement transition(::SmartHomeMDP, ::Any, ::Any, ::Any).\n\nClosest candidates are:\n  transition(::Any, ::Any, ::Any) at /Users/coreyshono/.julia/packages/POMDPs/XDCTo/src/errors.jl:107\n  transition(!Matched::FullyObservablePOMDP, ::Any, ::Any) at /Users/coreyshono/.julia/packages/POMDPModelTools/p5dFB/src/fully_observable_pomdp.jl:43\n  transition(!Matched::UnderlyingMDP{P,S,A}, ::S, ::A) where {P, S, A} at /Users/coreyshono/.julia/packages/POMDPModelTools/p5dFB/src/underlying_mdp.jl:21\n  ...\n\nThis error message uses heuristics to make recommendations for POMDPs.jl problem implementers. If it was misleading or you believe there is an inconsistency, please file an issue: https://github.com/JuliaPOMDP/POMDPs.jl/issues/new\n",
      "",
      "Stacktrace:",
      " [1] distribution_impl_error(::Symbol, ::Function, ::Type, ::Array{DataType,1}) at /Users/coreyshono/.julia/packages/POMDPs/XDCTo/src/errors.jl:77",
      " [2] transition(::SmartHomeMDP, ::SmartHomeState, ::SmartHomeAction) at /Users/coreyshono/.julia/packages/POMDPs/XDCTo/src/errors.jl:107",
      " [3] macro expansion at /Users/coreyshono/.julia/packages/POMDPs/XDCTo/src/ddn_struct.jl:119 [inlined]",
      " [4] gen(::DistributionDDNNode{typeof(transition)}, ::SmartHomeMDP, ::SmartHomeState, ::SmartHomeAction, ::MersenneTwister) at /Users/coreyshono/.julia/packages/POMDPs/XDCTo/src/ddn_struct.jl:117",
      " [5] macro expansion at /Users/coreyshono/.julia/packages/POMDPs/XDCTo/src/gen_impl.jl:78 [inlined]",
      " [6] gen(::DDNNode{:sp}, ::SmartHomeMDP, ::SmartHomeState, ::SmartHomeAction, ::MersenneTwister) at /Users/coreyshono/.julia/packages/POMDPs/XDCTo/src/gen_impl.jl:67",
      " [7] macro expansion at /Users/coreyshono/.julia/packages/POMDPs/XDCTo/src/gen_impl.jl:46 [inlined]",
      " [8] macro expansion at ./none:0 [inlined]",
      " [9] genout(::DDNOut{(:sp, :r)}, ::DDNStructure{NamedTuple{(:s, :a, :sp, :r),Tuple{InputDDNNode,InputDDNNode,DistributionDDNNode{typeof(transition)},FunctionDDNNode{typeof(reward)}}},NamedTuple{(:s, :a, :sp, :r),Tuple{Tuple{},Tuple{},Tuple{DDNNode{:s},DDNNode{:a}},Tuple{DDNNode{:s},DDNNode{:a},DDNNode{:sp}}}}}, ::SmartHomeMDP, ::SmartHomeState, ::SmartHomeAction, ::MersenneTwister) at ./none:0",
      " [10] macro expansion at /Users/coreyshono/.julia/packages/POMDPs/XDCTo/src/gen_impl.jl:19 [inlined]",
      " [11] gen(::DDNOut{(:sp, :r)}, ::SmartHomeMDP, ::SmartHomeState, ::SmartHomeAction, ::MersenneTwister) at /Users/coreyshono/.julia/packages/POMDPs/XDCTo/src/gen_impl.jl:4",
      " [12] simulate at /Users/coreyshono/.julia/packages/MCTS/j4u45/src/vanilla.jl:284 [inlined]",
      " [13] build_tree(::MCTSPlanner{SmartHomeMDP,SmartHomeState,SmartHomeAction,MCTS.SolvedRolloutEstimator{RandomPolicy{MersenneTwister,SmartHomeMDP,BeliefUpdaters.NothingUpdater},MersenneTwister},MersenneTwister}, ::SmartHomeState) at /Users/coreyshono/.julia/packages/MCTS/j4u45/src/vanilla.jl:260",
      " [14] plan! at /Users/coreyshono/.julia/packages/MCTS/j4u45/src/vanilla.jl:236 [inlined]",
      " [15] action_info(::MCTSPlanner{SmartHomeMDP,SmartHomeState,SmartHomeAction,MCTS.SolvedRolloutEstimator{RandomPolicy{MersenneTwister,SmartHomeMDP,BeliefUpdaters.NothingUpdater},MersenneTwister},MersenneTwister}, ::SmartHomeState) at /Users/coreyshono/.julia/packages/MCTS/j4u45/src/vanilla.jl:191",
      " [16] action(::MCTSPlanner{SmartHomeMDP,SmartHomeState,SmartHomeAction,MCTS.SolvedRolloutEstimator{RandomPolicy{MersenneTwister,SmartHomeMDP,BeliefUpdaters.NothingUpdater},MersenneTwister},MersenneTwister}, ::SmartHomeState) at /Users/coreyshono/.julia/packages/MCTS/j4u45/src/vanilla.jl:196",
      " [17] top-level scope at In[15]:15"
     ]
    }
   ],
   "source": [
    "#@requirements_info MCTSSolver() SmartHomeMDP()\n",
    "n_iter = 100000\n",
    "depth = TOD_RESOLUTION #* 2\n",
    "ec = 10.0\n",
    "\n",
    "solver = MCTSSolver(n_iterations=n_iter,\n",
    "    depth=depth,\n",
    "    exploration_constant=ec,\n",
    "    enable_tree_vis=true\n",
    ")\n",
    "\n",
    "\n",
    "policy = solve(solver, sh)\n",
    "state = initialstate(sh, Random.MersenneTwister(4))\n",
    "\n",
    "a = action(policy, state)\n",
    "\n",
    "#using D3Trees\n",
    "#D3Tree(policy, state, init_expand=2)  # click on the node to expand it"
   ]
  },
  {
   "cell_type": "markdown",
   "metadata": {},
   "source": [
    "## Evaluate Model "
   ]
  },
  {
   "cell_type": "code",
   "execution_count": 16,
   "metadata": {},
   "outputs": [
    {
     "ename": "DistributionNotImplemented",
     "evalue": "\n\nPOMDPs.jl could not find an implementation for DDN Node :sp. Consider the following options:\n\n1) Implement POMDPs.gen(::SmartHomeMDP, ::SmartHomeState, ::SmartHomeAction, ::AbstractRNG) to return a NamedTuple with key :sp.\n\nClosest candidates are:\n  gen(::Union{MDP, POMDP}, ::Any, ::Any, ::Any) at /Users/coreyshono/.julia/packages/POMDPs/XDCTo/src/gen_impl.jl:82\n  gen(!Matched::GenericDDNNode, ::Any...) at /Users/coreyshono/.julia/packages/POMDPs/XDCTo/src/ddn_struct.jl:165\n  gen(!Matched::DistributionDDNNode, ::Any, ::Any...) at /Users/coreyshono/.julia/packages/POMDPs/XDCTo/src/ddn_struct.jl:117\n  ...\n\n2) Implement POMDPs.gen(::DDNNode{:sp}, ::SmartHomeMDP, ::Any, ::Any, ::Any, ::AbstractRNG).\n\nClosest candidates are:\n  gen(::DDNNode{x}, ::Any, ::Any...) where x at /Users/coreyshono/.julia/packages/POMDPs/XDCTo/src/gen_impl.jl:67\n  gen(!Matched::GenericDDNNode, ::Any...) at /Users/coreyshono/.julia/packages/POMDPs/XDCTo/src/ddn_struct.jl:165\n  gen(!Matched::DistributionDDNNode, ::Any, ::Any...) at /Users/coreyshono/.julia/packages/POMDPs/XDCTo/src/ddn_struct.jl:117\n  ...\n\n3) Implement transition(::SmartHomeMDP, ::Any, ::Any, ::Any).\n\nClosest candidates are:\n  transition(::Any, ::Any, ::Any) at /Users/coreyshono/.julia/packages/POMDPs/XDCTo/src/errors.jl:107\n  transition(!Matched::FullyObservablePOMDP, ::Any, ::Any) at /Users/coreyshono/.julia/packages/POMDPModelTools/p5dFB/src/fully_observable_pomdp.jl:43\n  transition(!Matched::UnderlyingMDP{P,S,A}, ::S, ::A) where {P, S, A} at /Users/coreyshono/.julia/packages/POMDPModelTools/p5dFB/src/underlying_mdp.jl:21\n  ...\n\nThis error message uses heuristics to make recommendations for POMDPs.jl problem implementers. If it was misleading or you believe there is an inconsistency, please file an issue: https://github.com/JuliaPOMDP/POMDPs.jl/issues/new\n",
     "output_type": "error",
     "traceback": [
      "\n\nPOMDPs.jl could not find an implementation for DDN Node :sp. Consider the following options:\n\n1) Implement POMDPs.gen(::SmartHomeMDP, ::SmartHomeState, ::SmartHomeAction, ::AbstractRNG) to return a NamedTuple with key :sp.\n\nClosest candidates are:\n  gen(::Union{MDP, POMDP}, ::Any, ::Any, ::Any) at /Users/coreyshono/.julia/packages/POMDPs/XDCTo/src/gen_impl.jl:82\n  gen(!Matched::GenericDDNNode, ::Any...) at /Users/coreyshono/.julia/packages/POMDPs/XDCTo/src/ddn_struct.jl:165\n  gen(!Matched::DistributionDDNNode, ::Any, ::Any...) at /Users/coreyshono/.julia/packages/POMDPs/XDCTo/src/ddn_struct.jl:117\n  ...\n\n2) Implement POMDPs.gen(::DDNNode{:sp}, ::SmartHomeMDP, ::Any, ::Any, ::Any, ::AbstractRNG).\n\nClosest candidates are:\n  gen(::DDNNode{x}, ::Any, ::Any...) where x at /Users/coreyshono/.julia/packages/POMDPs/XDCTo/src/gen_impl.jl:67\n  gen(!Matched::GenericDDNNode, ::Any...) at /Users/coreyshono/.julia/packages/POMDPs/XDCTo/src/ddn_struct.jl:165\n  gen(!Matched::DistributionDDNNode, ::Any, ::Any...) at /Users/coreyshono/.julia/packages/POMDPs/XDCTo/src/ddn_struct.jl:117\n  ...\n\n3) Implement transition(::SmartHomeMDP, ::Any, ::Any, ::Any).\n\nClosest candidates are:\n  transition(::Any, ::Any, ::Any) at /Users/coreyshono/.julia/packages/POMDPs/XDCTo/src/errors.jl:107\n  transition(!Matched::FullyObservablePOMDP, ::Any, ::Any) at /Users/coreyshono/.julia/packages/POMDPModelTools/p5dFB/src/fully_observable_pomdp.jl:43\n  transition(!Matched::UnderlyingMDP{P,S,A}, ::S, ::A) where {P, S, A} at /Users/coreyshono/.julia/packages/POMDPModelTools/p5dFB/src/underlying_mdp.jl:21\n  ...\n\nThis error message uses heuristics to make recommendations for POMDPs.jl problem implementers. If it was misleading or you believe there is an inconsistency, please file an issue: https://github.com/JuliaPOMDP/POMDPs.jl/issues/new\n",
      "",
      "Stacktrace:",
      " [1] distribution_impl_error(::Symbol, ::Function, ::Type, ::Array{DataType,1}) at /Users/coreyshono/.julia/packages/POMDPs/XDCTo/src/errors.jl:77",
      " [2] transition(::SmartHomeMDP, ::SmartHomeState, ::SmartHomeAction) at /Users/coreyshono/.julia/packages/POMDPs/XDCTo/src/errors.jl:107",
      " [3] macro expansion at /Users/coreyshono/.julia/packages/POMDPs/XDCTo/src/ddn_struct.jl:119 [inlined]",
      " [4] gen(::DistributionDDNNode{typeof(transition)}, ::SmartHomeMDP, ::SmartHomeState, ::SmartHomeAction, ::MersenneTwister) at /Users/coreyshono/.julia/packages/POMDPs/XDCTo/src/ddn_struct.jl:117",
      " [5] macro expansion at /Users/coreyshono/.julia/packages/POMDPs/XDCTo/src/gen_impl.jl:78 [inlined]",
      " [6] gen(::DDNNode{:sp}, ::SmartHomeMDP, ::SmartHomeState, ::SmartHomeAction, ::MersenneTwister) at /Users/coreyshono/.julia/packages/POMDPs/XDCTo/src/gen_impl.jl:67",
      " [7] macro expansion at /Users/coreyshono/.julia/packages/POMDPs/XDCTo/src/gen_impl.jl:46 [inlined]",
      " [8] macro expansion at ./none:0 [inlined]",
      " [9] genout(::DDNOut{(:sp, :r)}, ::DDNStructure{NamedTuple{(:s, :a, :sp, :r),Tuple{InputDDNNode,InputDDNNode,DistributionDDNNode{typeof(transition)},FunctionDDNNode{typeof(reward)}}},NamedTuple{(:s, :a, :sp, :r),Tuple{Tuple{},Tuple{},Tuple{DDNNode{:s},DDNNode{:a}},Tuple{DDNNode{:s},DDNNode{:a},DDNNode{:sp}}}}}, ::SmartHomeMDP, ::SmartHomeState, ::SmartHomeAction, ::MersenneTwister) at ./none:0",
      " [10] macro expansion at /Users/coreyshono/.julia/packages/POMDPs/XDCTo/src/gen_impl.jl:19 [inlined]",
      " [11] gen(::DDNOut{(:sp, :r)}, ::SmartHomeMDP, ::SmartHomeState, ::SmartHomeAction, ::MersenneTwister) at /Users/coreyshono/.julia/packages/POMDPs/XDCTo/src/gen_impl.jl:4",
      " [12] iterate(::POMDPSimulators.MDPSimIterator{(:s, :a, :sp, :r, :t, :action_info),SmartHomeMDP,RandomPolicy{MersenneTwister,SmartHomeMDP,BeliefUpdaters.NothingUpdater},MersenneTwister,SmartHomeState}, ::Tuple{Int64,SmartHomeState}) at /Users/coreyshono/.julia/packages/POMDPSimulators/V9qfg/src/stepthrough.jl:53",
      " [13] iterate at /Users/coreyshono/.julia/packages/POMDPSimulators/V9qfg/src/stepthrough.jl:46 [inlined]",
      " [14] _collect(::UnitRange{Int64}, ::POMDPSimulators.MDPSimIterator{(:s, :a, :sp, :r, :t, :action_info),SmartHomeMDP,RandomPolicy{MersenneTwister,SmartHomeMDP,BeliefUpdaters.NothingUpdater},MersenneTwister,SmartHomeState}, ::Base.HasEltype, ::Base.SizeUnknown) at ./array.jl:555",
      " [15] collect at ./array.jl:544 [inlined]",
      " [16] collect_history(::POMDPSimulators.MDPSimIterator{(:s, :a, :sp, :r, :t, :action_info),SmartHomeMDP,RandomPolicy{MersenneTwister,SmartHomeMDP,BeliefUpdaters.NothingUpdater},MersenneTwister,SmartHomeState}, ::Val{false}, ::Nothing) at /Users/coreyshono/.julia/packages/POMDPSimulators/V9qfg/src/history_recorder.jl:185",
      " [17] simulate(::HistoryRecorder, ::SmartHomeMDP, ::RandomPolicy{MersenneTwister,SmartHomeMDP,BeliefUpdaters.NothingUpdater}, ::SmartHomeState) at /Users/coreyshono/.julia/packages/POMDPSimulators/V9qfg/src/history_recorder.jl:158",
      " [18] top-level scope at In[16]:2"
     ]
    }
   ],
   "source": [
    "hist_rand = HistoryRecorder(max_steps=SIM_DURATION)\n",
    "hist_rand = simulate(hist_rand, sh, rand_policy, state)\n",
    "\n",
    "println(\"Random Policy Total discounted reward: $(discounted_reward(hist_rand))\")"
   ]
  },
  {
   "cell_type": "code",
   "execution_count": 17,
   "metadata": {},
   "outputs": [
    {
     "ename": "DistributionNotImplemented",
     "evalue": "\n\nPOMDPs.jl could not find an implementation for DDN Node :sp. Consider the following options:\n\n1) Implement POMDPs.gen(::SmartHomeMDP, ::SmartHomeState, ::SmartHomeAction, ::AbstractRNG) to return a NamedTuple with key :sp.\n\nClosest candidates are:\n  gen(::Union{MDP, POMDP}, ::Any, ::Any, ::Any) at /Users/coreyshono/.julia/packages/POMDPs/XDCTo/src/gen_impl.jl:82\n  gen(!Matched::GenericDDNNode, ::Any...) at /Users/coreyshono/.julia/packages/POMDPs/XDCTo/src/ddn_struct.jl:165\n  gen(!Matched::DistributionDDNNode, ::Any, ::Any...) at /Users/coreyshono/.julia/packages/POMDPs/XDCTo/src/ddn_struct.jl:117\n  ...\n\n2) Implement POMDPs.gen(::DDNNode{:sp}, ::SmartHomeMDP, ::Any, ::Any, ::Any, ::AbstractRNG).\n\nClosest candidates are:\n  gen(::DDNNode{x}, ::Any, ::Any...) where x at /Users/coreyshono/.julia/packages/POMDPs/XDCTo/src/gen_impl.jl:67\n  gen(!Matched::GenericDDNNode, ::Any...) at /Users/coreyshono/.julia/packages/POMDPs/XDCTo/src/ddn_struct.jl:165\n  gen(!Matched::DistributionDDNNode, ::Any, ::Any...) at /Users/coreyshono/.julia/packages/POMDPs/XDCTo/src/ddn_struct.jl:117\n  ...\n\n3) Implement transition(::SmartHomeMDP, ::Any, ::Any, ::Any).\n\nClosest candidates are:\n  transition(::Any, ::Any, ::Any) at /Users/coreyshono/.julia/packages/POMDPs/XDCTo/src/errors.jl:107\n  transition(!Matched::FullyObservablePOMDP, ::Any, ::Any) at /Users/coreyshono/.julia/packages/POMDPModelTools/p5dFB/src/fully_observable_pomdp.jl:43\n  transition(!Matched::UnderlyingMDP{P,S,A}, ::S, ::A) where {P, S, A} at /Users/coreyshono/.julia/packages/POMDPModelTools/p5dFB/src/underlying_mdp.jl:21\n  ...\n\nThis error message uses heuristics to make recommendations for POMDPs.jl problem implementers. If it was misleading or you believe there is an inconsistency, please file an issue: https://github.com/JuliaPOMDP/POMDPs.jl/issues/new\n",
     "output_type": "error",
     "traceback": [
      "\n\nPOMDPs.jl could not find an implementation for DDN Node :sp. Consider the following options:\n\n1) Implement POMDPs.gen(::SmartHomeMDP, ::SmartHomeState, ::SmartHomeAction, ::AbstractRNG) to return a NamedTuple with key :sp.\n\nClosest candidates are:\n  gen(::Union{MDP, POMDP}, ::Any, ::Any, ::Any) at /Users/coreyshono/.julia/packages/POMDPs/XDCTo/src/gen_impl.jl:82\n  gen(!Matched::GenericDDNNode, ::Any...) at /Users/coreyshono/.julia/packages/POMDPs/XDCTo/src/ddn_struct.jl:165\n  gen(!Matched::DistributionDDNNode, ::Any, ::Any...) at /Users/coreyshono/.julia/packages/POMDPs/XDCTo/src/ddn_struct.jl:117\n  ...\n\n2) Implement POMDPs.gen(::DDNNode{:sp}, ::SmartHomeMDP, ::Any, ::Any, ::Any, ::AbstractRNG).\n\nClosest candidates are:\n  gen(::DDNNode{x}, ::Any, ::Any...) where x at /Users/coreyshono/.julia/packages/POMDPs/XDCTo/src/gen_impl.jl:67\n  gen(!Matched::GenericDDNNode, ::Any...) at /Users/coreyshono/.julia/packages/POMDPs/XDCTo/src/ddn_struct.jl:165\n  gen(!Matched::DistributionDDNNode, ::Any, ::Any...) at /Users/coreyshono/.julia/packages/POMDPs/XDCTo/src/ddn_struct.jl:117\n  ...\n\n3) Implement transition(::SmartHomeMDP, ::Any, ::Any, ::Any).\n\nClosest candidates are:\n  transition(::Any, ::Any, ::Any) at /Users/coreyshono/.julia/packages/POMDPs/XDCTo/src/errors.jl:107\n  transition(!Matched::FullyObservablePOMDP, ::Any, ::Any) at /Users/coreyshono/.julia/packages/POMDPModelTools/p5dFB/src/fully_observable_pomdp.jl:43\n  transition(!Matched::UnderlyingMDP{P,S,A}, ::S, ::A) where {P, S, A} at /Users/coreyshono/.julia/packages/POMDPModelTools/p5dFB/src/underlying_mdp.jl:21\n  ...\n\nThis error message uses heuristics to make recommendations for POMDPs.jl problem implementers. If it was misleading or you believe there is an inconsistency, please file an issue: https://github.com/JuliaPOMDP/POMDPs.jl/issues/new\n",
      "",
      "Stacktrace:",
      " [1] distribution_impl_error(::Symbol, ::Function, ::Type, ::Array{DataType,1}) at /Users/coreyshono/.julia/packages/POMDPs/XDCTo/src/errors.jl:77",
      " [2] transition(::SmartHomeMDP, ::SmartHomeState, ::SmartHomeAction) at /Users/coreyshono/.julia/packages/POMDPs/XDCTo/src/errors.jl:107",
      " [3] macro expansion at /Users/coreyshono/.julia/packages/POMDPs/XDCTo/src/ddn_struct.jl:119 [inlined]",
      " [4] gen(::DistributionDDNNode{typeof(transition)}, ::SmartHomeMDP, ::SmartHomeState, ::SmartHomeAction, ::MersenneTwister) at /Users/coreyshono/.julia/packages/POMDPs/XDCTo/src/ddn_struct.jl:117",
      " [5] macro expansion at /Users/coreyshono/.julia/packages/POMDPs/XDCTo/src/gen_impl.jl:78 [inlined]",
      " [6] gen(::DDNNode{:sp}, ::SmartHomeMDP, ::SmartHomeState, ::SmartHomeAction, ::MersenneTwister) at /Users/coreyshono/.julia/packages/POMDPs/XDCTo/src/gen_impl.jl:67",
      " [7] macro expansion at /Users/coreyshono/.julia/packages/POMDPs/XDCTo/src/gen_impl.jl:46 [inlined]",
      " [8] macro expansion at ./none:0 [inlined]",
      " [9] genout(::DDNOut{(:sp, :r)}, ::DDNStructure{NamedTuple{(:s, :a, :sp, :r),Tuple{InputDDNNode,InputDDNNode,DistributionDDNNode{typeof(transition)},FunctionDDNNode{typeof(reward)}}},NamedTuple{(:s, :a, :sp, :r),Tuple{Tuple{},Tuple{},Tuple{DDNNode{:s},DDNNode{:a}},Tuple{DDNNode{:s},DDNNode{:a},DDNNode{:sp}}}}}, ::SmartHomeMDP, ::SmartHomeState, ::SmartHomeAction, ::MersenneTwister) at ./none:0",
      " [10] macro expansion at /Users/coreyshono/.julia/packages/POMDPs/XDCTo/src/gen_impl.jl:19 [inlined]",
      " [11] gen(::DDNOut{(:sp, :r)}, ::SmartHomeMDP, ::SmartHomeState, ::SmartHomeAction, ::MersenneTwister) at /Users/coreyshono/.julia/packages/POMDPs/XDCTo/src/gen_impl.jl:4",
      " [12] simulate at /Users/coreyshono/.julia/packages/MCTS/j4u45/src/vanilla.jl:284 [inlined]",
      " [13] build_tree(::MCTSPlanner{SmartHomeMDP,SmartHomeState,SmartHomeAction,MCTS.SolvedRolloutEstimator{RandomPolicy{MersenneTwister,SmartHomeMDP,BeliefUpdaters.NothingUpdater},MersenneTwister},MersenneTwister}, ::SmartHomeState) at /Users/coreyshono/.julia/packages/MCTS/j4u45/src/vanilla.jl:260",
      " [14] plan! at /Users/coreyshono/.julia/packages/MCTS/j4u45/src/vanilla.jl:236 [inlined]",
      " [15] action_info(::MCTSPlanner{SmartHomeMDP,SmartHomeState,SmartHomeAction,MCTS.SolvedRolloutEstimator{RandomPolicy{MersenneTwister,SmartHomeMDP,BeliefUpdaters.NothingUpdater},MersenneTwister},MersenneTwister}, ::SmartHomeState) at /Users/coreyshono/.julia/packages/MCTS/j4u45/src/vanilla.jl:191",
      " [16] iterate(::POMDPSimulators.MDPSimIterator{(:s, :a, :sp, :r, :t, :action_info),SmartHomeMDP,MCTSPlanner{SmartHomeMDP,SmartHomeState,SmartHomeAction,MCTS.SolvedRolloutEstimator{RandomPolicy{MersenneTwister,SmartHomeMDP,BeliefUpdaters.NothingUpdater},MersenneTwister},MersenneTwister},MersenneTwister,SmartHomeState}, ::Tuple{Int64,SmartHomeState}) at /Users/coreyshono/.julia/packages/POMDPSimulators/V9qfg/src/stepthrough.jl:51",
      " [17] iterate at /Users/coreyshono/.julia/packages/POMDPSimulators/V9qfg/src/stepthrough.jl:46 [inlined]",
      " [18] _collect(::UnitRange{Int64}, ::POMDPSimulators.MDPSimIterator{(:s, :a, :sp, :r, :t, :action_info),SmartHomeMDP,MCTSPlanner{SmartHomeMDP,SmartHomeState,SmartHomeAction,MCTS.SolvedRolloutEstimator{RandomPolicy{MersenneTwister,SmartHomeMDP,BeliefUpdaters.NothingUpdater},MersenneTwister},MersenneTwister},MersenneTwister,SmartHomeState}, ::Base.HasEltype, ::Base.SizeUnknown) at ./array.jl:555",
      " [19] collect at ./array.jl:544 [inlined]",
      " [20] collect_history(::POMDPSimulators.MDPSimIterator{(:s, :a, :sp, :r, :t, :action_info),SmartHomeMDP,MCTSPlanner{SmartHomeMDP,SmartHomeState,SmartHomeAction,MCTS.SolvedRolloutEstimator{RandomPolicy{MersenneTwister,SmartHomeMDP,BeliefUpdaters.NothingUpdater},MersenneTwister},MersenneTwister},MersenneTwister,SmartHomeState}, ::Val{false}, ::Nothing) at /Users/coreyshono/.julia/packages/POMDPSimulators/V9qfg/src/history_recorder.jl:185",
      " [21] simulate(::HistoryRecorder, ::SmartHomeMDP, ::MCTSPlanner{SmartHomeMDP,SmartHomeState,SmartHomeAction,MCTS.SolvedRolloutEstimator{RandomPolicy{MersenneTwister,SmartHomeMDP,BeliefUpdaters.NothingUpdater},MersenneTwister},MersenneTwister}, ::SmartHomeState) at /Users/coreyshono/.julia/packages/POMDPSimulators/V9qfg/src/history_recorder.jl:158",
      " [22] top-level scope at In[17]:2"
     ]
    }
   ],
   "source": [
    "hist_mcts = HistoryRecorder(max_steps=SIM_DURATION)\n",
    "hist_mcts = simulate(hist_mcts, sh, policy, state)\n",
    "\n",
    "println(\"Monte Carlo Policy Total discounted reward: $(discounted_reward(hist_mcts))\")"
   ]
  },
  {
   "cell_type": "markdown",
   "metadata": {},
   "source": [
    "## Export Simulation Results "
   ]
  },
  {
   "cell_type": "code",
   "execution_count": 18,
   "metadata": {},
   "outputs": [
    {
     "data": {
      "text/plain": [
       "export_results (generic function with 1 method)"
      ]
     },
     "execution_count": 18,
     "metadata": {},
     "output_type": "execute_result"
    }
   ],
   "source": [
    "function export_results(hist, filename)\n",
    "    # Write to file\n",
    "    open(filename, \"w\") do io\n",
    "        @printf(io, \"t,TOD,c,dhsp,dcsp,d_hv,d_,soc,rmt,occ,hsp,csp,odt,tou,r\\n\")\n",
    "        for (s, a, r, sp) in eachstep(hist, \"(s, a, r, sp)\")  \n",
    "            @printf(io, \"%s,%s,%s,%s,%s,%s,%s,%s,%s,%s,%s,%s,%s,%s,%s\\n\", s.t, s.tod, a.c, a.dhsp, a.dcsp, s.d_hv, s.d_, s.soc, s.rmt, s.occ, s.hsp, s.csp, s.odt, s.tou, r)\n",
    "        end\n",
    "    end\n",
    "end"
   ]
  },
  {
   "cell_type": "code",
   "execution_count": 19,
   "metadata": {},
   "outputs": [
    {
     "ename": "MethodError",
     "evalue": "MethodError: no method matching eachstep(::HistoryRecorder, ::String)\nClosest candidates are:\n  eachstep(!Matched::POMDPSimulators.AbstractSimHistory, ::Any) at /Users/coreyshono/.julia/packages/POMDPSimulators/V9qfg/src/history.jl:126",
     "output_type": "error",
     "traceback": [
      "MethodError: no method matching eachstep(::HistoryRecorder, ::String)\nClosest candidates are:\n  eachstep(!Matched::POMDPSimulators.AbstractSimHistory, ::Any) at /Users/coreyshono/.julia/packages/POMDPSimulators/V9qfg/src/history.jl:126",
      "",
      "Stacktrace:",
      " [1] (::getfield(Main, Symbol(\"##3#4\")){HistoryRecorder})(::IOStream) at ./In[18]:5",
      " [2] #open#312(::Base.Iterators.Pairs{Union{},Union{},Tuple{},NamedTuple{(),Tuple{}}}, ::typeof(open), ::getfield(Main, Symbol(\"##3#4\")){HistoryRecorder}, ::String, ::Vararg{String,N} where N) at ./iostream.jl:375",
      " [3] open(::Function, ::String, ::String) at ./iostream.jl:373",
      " [4] export_results(::HistoryRecorder, ::String) at ./In[18]:3",
      " [5] top-level scope at In[19]:1"
     ]
    }
   ],
   "source": [
    "export_results(hist_rand, HIST_RAND_FILENAME) \n",
    "export_results(hist_mcts, HIST_MCTS_FILENAME) "
   ]
  },
  {
   "cell_type": "code",
   "execution_count": null,
   "metadata": {},
   "outputs": [],
   "source": []
  },
  {
   "cell_type": "code",
   "execution_count": null,
   "metadata": {},
   "outputs": [],
   "source": []
  }
 ],
 "metadata": {
  "kernelspec": {
   "display_name": "Julia 1.2.0",
   "language": "julia",
   "name": "julia-1.2"
  },
  "language_info": {
   "file_extension": ".jl",
   "mimetype": "application/julia",
   "name": "julia",
   "version": "1.2.0"
  }
 },
 "nbformat": 4,
 "nbformat_minor": 2
}
